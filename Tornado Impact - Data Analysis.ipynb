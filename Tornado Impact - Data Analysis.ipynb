{
 "cells": [
  {
   "cell_type": "markdown",
   "metadata": {},
   "source": [
    "# Tornado Impact - Data Analysis"
   ]
  },
  {
   "cell_type": "markdown",
   "metadata": {},
   "source": [
    "**Authors:**\n",
    "\n",
    "* Andrea Johnson\n",
    "* Damir Zunic\n",
    "* Lindsey Downs"
   ]
  },
  {
   "cell_type": "markdown",
   "metadata": {},
   "source": [
    "# Introduction"
   ]
  },
  {
   "cell_type": "markdown",
   "metadata": {},
   "source": [
    "We are all interested in weather data, but more specifically interested in the tornado events that occur both locally and nationally.  Our project is to look at the geographic distribution of tornado events in the United States, with focus on the various “measurements of impact”, from the loss of life to the financial ramifications, and explore how the geographic distribution and measurements of impact for Indiana measure up against the national results.\n"
   ]
  },
  {
   "cell_type": "markdown",
   "metadata": {},
   "source": [
    "### Data Source"
   ]
  },
  {
   "cell_type": "markdown",
   "metadata": {},
   "source": [
    "In this research we are using publicly available [NCEI (Storm Events Database](https://www.ncdc.noaa.gov/stormevents/ftp.jsp). It contains various type of storms from January 1950 to December 2019, entered by NOAA's National Weather Service (NWS). Data are available in comma-separated value (CSV) files, three files per year: \"details\", \"locations\" and \"fatalities\".\n",
    "\n",
    "In our reserach we will be using only \"details\" files from 1996 to 2019.\n",
    "\n",
    "**Description of Features:**\n",
    "\n",
    "Those files have been read, cleanead and transformed to one file that contents only tornado events and features relevant to this project. The cleanup process is described in the Jupyter notebook [\"Tornado Impact - Data Exploration and Cleanup.](https://butler.bootcampcontent.com/zunicd/project_one/blob/master/Tornado%20Impact%20-%20Data%20Exploration%20and%20Cleanup.ipynb)\n",
    "\n",
    "The number of fetaures have been reduced to the following 11 features:\n",
    "\n",
    "|Feature Name|Description|\n",
    "|---|---|\n",
    "|EVENT_ID|ID assigned by NWS to note a single, small part of a storm episode|\n",
    "|STATE|The state name where the event occurred|\n",
    "|YEAR|Four digit year for the event in this record|\n",
    "|MONTH_NAME|Name of the month for the event in this record|\n",
    "|BEGIN_DATE_TIME|Beginning  of the eventMM/DD/YYYY 24 hour time AM/PM|\n",
    "|TOR_F_SCALE|The strength of the tornado on Enhanced Fujita Scale|\n",
    "|BEGIN_LAT|The latitude where the event occurred|\n",
    "|BEGIN_LON|The longitude where the event occurred|\n",
    "|INJURIES|The number of injuries, direct and indirect combined|\n",
    "|DEATHS|The number of deaths, direct and indirect combined|\n",
    "|DAMAGE|The estimated amount of damage to property and crops combined|\n",
    "\n",
    "\n",
    "The new file has 33006 observations and as it was mentioned above, 11 features. There are 38 observations with NaN values. All of them are for both coordinates and majoriy are for Oklahoma in 1996. \n"
   ]
  },
  {
   "cell_type": "markdown",
   "metadata": {},
   "source": [
    "### Challenges"
   ]
  },
  {
   "cell_type": "markdown",
   "metadata": {},
   "source": [
    "We have faced several challenges during this project.\n",
    "\n",
    "* Values for \"damages\" features in our dataset were string values (1K, 1M, …). To be able to calculate with them we had to convert them to floats. \n",
    "\n",
    "\n",
    "* Then we faced another problem, with one “dirty” record. That record did not have any number, just letter “K” and it crashed our code. We had to manually update this record in the .csv file to “0K”.\n",
    "\n",
    "\n",
    "* State names in the \"us-states\" GeoJSON geometry are in title case and our dataset has capitalized state names. We had to convert names in the dataframe to match GeoJSON names.\n",
    "\n",
    "\n",
    "* \"citipy” is providing only city names, no states. In case when a city is  having the same name as other cities or the same name as counties or countries, Geocoding API might return incorrect coordinates. One example is city Lebanon, IN and the country Lebanon. It would be nice to get (city, state) pair from “citipy\".\n",
    "\n"
   ]
  },
  {
   "cell_type": "markdown",
   "metadata": {},
   "source": [
    "### Findings"
   ]
  },
  {
   "cell_type": "markdown",
   "metadata": {},
   "source": [
    "* We have found out that 2011 was the worst year in recent history for all of the measurements of impact.  Each measurement of impact -- Deaths, Injuries, and Damage -- are correlated. Not only the total tornado frequency was the highest in history, but the frequency of F/EF4 abd F/EF5 tornadoes was 4 times higher than other years.\n",
    "\n",
    "\n",
    "* The higher frequency (or count) of tornado events does not necessarily mean greater impact. As we will show, higher scale tornadoes (F/EF4 and F/EF5) have more impact to tornado related deaths, injuries and damages than just tornado frequency. \n",
    "\n",
    "\n",
    "* Indiana's rankings:\n",
    "<pre>Annual Average of Tornadoes: \t  \t\t    <b>19th</b> \n",
    "Annual Average of Tornadoes per 10K sq mi: \t<b>11th</b>\n",
    "Total Number of Tornado Fatalities:            <b>11th</b></pre>\n",
    "\n",
    "\n",
    "* **Seasonality of tornadoes** - We have proved the seasonal nature of tornadoes with May at the top, closely followed by April and June as months when tornadoes are most common.\n",
    "\n",
    "\n",
    "* The most common disaster supported by FEMA public assistance is Hurricanes.  Typically, property insurance claims cover the tornado damages.  FEMA data and NWS data do not correlate.\n"
   ]
  },
  {
   "cell_type": "markdown",
   "metadata": {},
   "source": [
    "### Motivation"
   ]
  },
  {
   "cell_type": "markdown",
   "metadata": {},
   "source": [
    "Living in Indiana, one of the states that are sometimes included in Tornado Alley, and going frequently through warnings and safety procedures, it is normal that we are asking a lot of questions about tornadoes. This project will try to answer some of the questions."
   ]
  },
  {
   "cell_type": "markdown",
   "metadata": {},
   "source": [
    "## Library Imports"
   ]
  },
  {
   "cell_type": "code",
   "execution_count": 1,
   "metadata": {},
   "outputs": [],
   "source": [
    "import pandas as pd\n",
    "import numpy as np\n",
    "import matplotlib.pyplot as plt\n",
    "import gmaps\n",
    "import gmaps.geojson_geometries\n",
    "import json\n",
    "import requests\n",
    "from citipy import citipy\n",
    "import cpi\n",
    "\n",
    "from matplotlib import cm\n",
    "from matplotlib.cm import inferno\n",
    "import matplotlib.ticker as tkr\n",
    "from matplotlib.colors import to_hex\n",
    "\n",
    "from config import gkey\n",
    "gmaps.configure(api_key=gkey)"
   ]
  },
  {
   "cell_type": "markdown",
   "metadata": {},
   "source": [
    "## Exploratory Analysis"
   ]
  },
  {
   "cell_type": "code",
   "execution_count": 2,
   "metadata": {},
   "outputs": [
    {
     "data": {
      "text/html": [
       "<div>\n",
       "<style scoped>\n",
       "    .dataframe tbody tr th:only-of-type {\n",
       "        vertical-align: middle;\n",
       "    }\n",
       "\n",
       "    .dataframe tbody tr th {\n",
       "        vertical-align: top;\n",
       "    }\n",
       "\n",
       "    .dataframe thead th {\n",
       "        text-align: right;\n",
       "    }\n",
       "</style>\n",
       "<table border=\"1\" class=\"dataframe\">\n",
       "  <thead>\n",
       "    <tr style=\"text-align: right;\">\n",
       "      <th></th>\n",
       "      <th>EVENT_ID</th>\n",
       "      <th>STATE</th>\n",
       "      <th>YEAR</th>\n",
       "      <th>MONTH_NAME</th>\n",
       "      <th>BEGIN_DATE_TIME</th>\n",
       "      <th>TOR_F_SCALE</th>\n",
       "      <th>BEGIN_LAT</th>\n",
       "      <th>BEGIN_LON</th>\n",
       "      <th>INJURIES</th>\n",
       "      <th>DEATHS</th>\n",
       "      <th>DAMAGE</th>\n",
       "    </tr>\n",
       "  </thead>\n",
       "  <tbody>\n",
       "    <tr>\n",
       "      <th>0</th>\n",
       "      <td>5539021</td>\n",
       "      <td>MISSOURI</td>\n",
       "      <td>1996</td>\n",
       "      <td>January</td>\n",
       "      <td>18-JAN-96 08:05:00</td>\n",
       "      <td>F1</td>\n",
       "      <td>36.18</td>\n",
       "      <td>-89.87</td>\n",
       "      <td>0</td>\n",
       "      <td>0</td>\n",
       "      <td>50000.0</td>\n",
       "    </tr>\n",
       "    <tr>\n",
       "      <th>1</th>\n",
       "      <td>5535520</td>\n",
       "      <td>ARKANSAS</td>\n",
       "      <td>1996</td>\n",
       "      <td>January</td>\n",
       "      <td>18-JAN-96 07:30:00</td>\n",
       "      <td>F1</td>\n",
       "      <td>34.55</td>\n",
       "      <td>-90.97</td>\n",
       "      <td>3</td>\n",
       "      <td>0</td>\n",
       "      <td>30000.0</td>\n",
       "    </tr>\n",
       "    <tr>\n",
       "      <th>2</th>\n",
       "      <td>5574627</td>\n",
       "      <td>LOUISIANA</td>\n",
       "      <td>1996</td>\n",
       "      <td>January</td>\n",
       "      <td>26-JAN-96 09:35:00</td>\n",
       "      <td>F1</td>\n",
       "      <td>30.57</td>\n",
       "      <td>-92.32</td>\n",
       "      <td>3</td>\n",
       "      <td>0</td>\n",
       "      <td>15000.0</td>\n",
       "    </tr>\n",
       "    <tr>\n",
       "      <th>3</th>\n",
       "      <td>5558382</td>\n",
       "      <td>INDIANA</td>\n",
       "      <td>1996</td>\n",
       "      <td>January</td>\n",
       "      <td>18-JAN-96 14:30:00</td>\n",
       "      <td>F0</td>\n",
       "      <td>40.50</td>\n",
       "      <td>-86.97</td>\n",
       "      <td>0</td>\n",
       "      <td>0</td>\n",
       "      <td>0.0</td>\n",
       "    </tr>\n",
       "    <tr>\n",
       "      <th>4</th>\n",
       "      <td>5535845</td>\n",
       "      <td>TEXAS</td>\n",
       "      <td>1996</td>\n",
       "      <td>January</td>\n",
       "      <td>17-JAN-96 21:55:00</td>\n",
       "      <td>F2</td>\n",
       "      <td>33.72</td>\n",
       "      <td>-96.15</td>\n",
       "      <td>5</td>\n",
       "      <td>0</td>\n",
       "      <td>150000.0</td>\n",
       "    </tr>\n",
       "  </tbody>\n",
       "</table>\n",
       "</div>"
      ],
      "text/plain": [
       "   EVENT_ID      STATE  YEAR MONTH_NAME     BEGIN_DATE_TIME TOR_F_SCALE  \\\n",
       "0   5539021   MISSOURI  1996    January  18-JAN-96 08:05:00          F1   \n",
       "1   5535520   ARKANSAS  1996    January  18-JAN-96 07:30:00          F1   \n",
       "2   5574627  LOUISIANA  1996    January  26-JAN-96 09:35:00          F1   \n",
       "3   5558382    INDIANA  1996    January  18-JAN-96 14:30:00          F0   \n",
       "4   5535845      TEXAS  1996    January  17-JAN-96 21:55:00          F2   \n",
       "\n",
       "   BEGIN_LAT  BEGIN_LON  INJURIES  DEATHS    DAMAGE  \n",
       "0      36.18     -89.87         0       0   50000.0  \n",
       "1      34.55     -90.97         3       0   30000.0  \n",
       "2      30.57     -92.32         3       0   15000.0  \n",
       "3      40.50     -86.97         0       0       0.0  \n",
       "4      33.72     -96.15         5       0  150000.0  "
      ]
     },
     "execution_count": 2,
     "metadata": {},
     "output_type": "execute_result"
    }
   ],
   "source": [
    "# Read the file and create dataframe\n",
    "df_tor = pd.read_csv('./Resources/TornadoEvents.csv')\n",
    "df_tor.head()"
   ]
  },
  {
   "cell_type": "code",
   "execution_count": 3,
   "metadata": {},
   "outputs": [
    {
     "name": "stdout",
     "output_type": "stream",
     "text": [
      "<class 'pandas.core.frame.DataFrame'>\n",
      "RangeIndex: 33006 entries, 0 to 33005\n",
      "Data columns (total 11 columns):\n",
      " #   Column           Non-Null Count  Dtype  \n",
      "---  ------           --------------  -----  \n",
      " 0   EVENT_ID         33006 non-null  int64  \n",
      " 1   STATE            33006 non-null  object \n",
      " 2   YEAR             33006 non-null  int64  \n",
      " 3   MONTH_NAME       33006 non-null  object \n",
      " 4   BEGIN_DATE_TIME  33006 non-null  object \n",
      " 5   TOR_F_SCALE      33006 non-null  object \n",
      " 6   BEGIN_LAT        32968 non-null  float64\n",
      " 7   BEGIN_LON        32968 non-null  float64\n",
      " 8   INJURIES         33006 non-null  int64  \n",
      " 9   DEATHS           33006 non-null  int64  \n",
      " 10  DAMAGE           33006 non-null  float64\n",
      "dtypes: float64(3), int64(4), object(4)\n",
      "memory usage: 2.8+ MB\n"
     ]
    }
   ],
   "source": [
    "df_tor.info()"
   ]
  },
  {
   "cell_type": "markdown",
   "metadata": {},
   "source": [
    "## Choropleth maps with GeoJSON"
   ]
  },
  {
   "cell_type": "markdown",
   "metadata": {},
   "source": [
    "To draw [choropleth](https://en.wikipedia.org/wiki/Choropleth_map) maps it is useful to add GeoJSON layer to maps. "
   ]
  },
  {
   "cell_type": "markdown",
   "metadata": {},
   "source": [
    "**Convert state names in dataframe to titlecase to match the case found in GeoJSON.**"
   ]
  },
  {
   "cell_type": "markdown",
   "metadata": {},
   "source": [
    "State names in GeoJSON document are listed as title case. We need to convert names in our dataframe."
   ]
  },
  {
   "cell_type": "code",
   "execution_count": 4,
   "metadata": {},
   "outputs": [
    {
     "data": {
      "text/html": [
       "<div>\n",
       "<style scoped>\n",
       "    .dataframe tbody tr th:only-of-type {\n",
       "        vertical-align: middle;\n",
       "    }\n",
       "\n",
       "    .dataframe tbody tr th {\n",
       "        vertical-align: top;\n",
       "    }\n",
       "\n",
       "    .dataframe thead th {\n",
       "        text-align: right;\n",
       "    }\n",
       "</style>\n",
       "<table border=\"1\" class=\"dataframe\">\n",
       "  <thead>\n",
       "    <tr style=\"text-align: right;\">\n",
       "      <th></th>\n",
       "      <th>EVENT_ID</th>\n",
       "      <th>STATE</th>\n",
       "      <th>YEAR</th>\n",
       "      <th>MONTH_NAME</th>\n",
       "      <th>BEGIN_DATE_TIME</th>\n",
       "      <th>TOR_F_SCALE</th>\n",
       "      <th>BEGIN_LAT</th>\n",
       "      <th>BEGIN_LON</th>\n",
       "      <th>INJURIES</th>\n",
       "      <th>DEATHS</th>\n",
       "      <th>DAMAGE</th>\n",
       "    </tr>\n",
       "  </thead>\n",
       "  <tbody>\n",
       "    <tr>\n",
       "      <th>0</th>\n",
       "      <td>5539021</td>\n",
       "      <td>Missouri</td>\n",
       "      <td>1996</td>\n",
       "      <td>January</td>\n",
       "      <td>18-JAN-96 08:05:00</td>\n",
       "      <td>F1</td>\n",
       "      <td>36.18</td>\n",
       "      <td>-89.87</td>\n",
       "      <td>0</td>\n",
       "      <td>0</td>\n",
       "      <td>50000.0</td>\n",
       "    </tr>\n",
       "    <tr>\n",
       "      <th>1</th>\n",
       "      <td>5535520</td>\n",
       "      <td>Arkansas</td>\n",
       "      <td>1996</td>\n",
       "      <td>January</td>\n",
       "      <td>18-JAN-96 07:30:00</td>\n",
       "      <td>F1</td>\n",
       "      <td>34.55</td>\n",
       "      <td>-90.97</td>\n",
       "      <td>3</td>\n",
       "      <td>0</td>\n",
       "      <td>30000.0</td>\n",
       "    </tr>\n",
       "    <tr>\n",
       "      <th>2</th>\n",
       "      <td>5574627</td>\n",
       "      <td>Louisiana</td>\n",
       "      <td>1996</td>\n",
       "      <td>January</td>\n",
       "      <td>26-JAN-96 09:35:00</td>\n",
       "      <td>F1</td>\n",
       "      <td>30.57</td>\n",
       "      <td>-92.32</td>\n",
       "      <td>3</td>\n",
       "      <td>0</td>\n",
       "      <td>15000.0</td>\n",
       "    </tr>\n",
       "    <tr>\n",
       "      <th>3</th>\n",
       "      <td>5558382</td>\n",
       "      <td>Indiana</td>\n",
       "      <td>1996</td>\n",
       "      <td>January</td>\n",
       "      <td>18-JAN-96 14:30:00</td>\n",
       "      <td>F0</td>\n",
       "      <td>40.50</td>\n",
       "      <td>-86.97</td>\n",
       "      <td>0</td>\n",
       "      <td>0</td>\n",
       "      <td>0.0</td>\n",
       "    </tr>\n",
       "    <tr>\n",
       "      <th>4</th>\n",
       "      <td>5535845</td>\n",
       "      <td>Texas</td>\n",
       "      <td>1996</td>\n",
       "      <td>January</td>\n",
       "      <td>17-JAN-96 21:55:00</td>\n",
       "      <td>F2</td>\n",
       "      <td>33.72</td>\n",
       "      <td>-96.15</td>\n",
       "      <td>5</td>\n",
       "      <td>0</td>\n",
       "      <td>150000.0</td>\n",
       "    </tr>\n",
       "  </tbody>\n",
       "</table>\n",
       "</div>"
      ],
      "text/plain": [
       "   EVENT_ID      STATE  YEAR MONTH_NAME     BEGIN_DATE_TIME TOR_F_SCALE  \\\n",
       "0   5539021   Missouri  1996    January  18-JAN-96 08:05:00          F1   \n",
       "1   5535520   Arkansas  1996    January  18-JAN-96 07:30:00          F1   \n",
       "2   5574627  Louisiana  1996    January  26-JAN-96 09:35:00          F1   \n",
       "3   5558382    Indiana  1996    January  18-JAN-96 14:30:00          F0   \n",
       "4   5535845      Texas  1996    January  17-JAN-96 21:55:00          F2   \n",
       "\n",
       "   BEGIN_LAT  BEGIN_LON  INJURIES  DEATHS    DAMAGE  \n",
       "0      36.18     -89.87         0       0   50000.0  \n",
       "1      34.55     -90.97         3       0   30000.0  \n",
       "2      30.57     -92.32         3       0   15000.0  \n",
       "3      40.50     -86.97         0       0       0.0  \n",
       "4      33.72     -96.15         5       0  150000.0  "
      ]
     },
     "execution_count": 4,
     "metadata": {},
     "output_type": "execute_result"
    }
   ],
   "source": [
    "# Copy dataframe\n",
    "tor_geo = df_tor.copy()\n",
    "\n",
    "# Convert state names to titlecase to match names in GeoJSON\n",
    "tor_geo['STATE'] = tor_geo['STATE'].str.title()\n",
    "\n",
    "# Virgin Islands not listed in GeoJSON for US states so droping here\n",
    "tor_geo = tor_geo.loc[tor_geo['STATE'] != 'Virgin Islands']\n",
    "\n",
    "# Convert \"Of\" in \"District Of Columbia\" to lower case to match names in GeoJSON\n",
    "tor_geo.replace({'STATE':'District Of Columbia'}, 'District of Columbia', inplace=True)\n",
    "\n",
    "# Display first 5 rows\n",
    "tor_geo.head()"
   ]
  },
  {
   "cell_type": "markdown",
   "metadata": {},
   "source": [
    "\n",
    "We will load **_us-states_** geometry from GeoJSON geometries bundled with **gmaps**."
   ]
  },
  {
   "cell_type": "code",
   "execution_count": 5,
   "metadata": {},
   "outputs": [
    {
     "data": {
      "text/plain": [
       "['Alabama', 'Alaska', 'Arizona', 'Arkansas', 'California']"
      ]
     },
     "execution_count": 5,
     "metadata": {},
     "output_type": "execute_result"
    }
   ],
   "source": [
    "# Load us-states geometry and list states in it\n",
    "us_states_geojson = gmaps.geojson_geometries.load_geometry('us-states')\n",
    "states = []\n",
    "for feature in us_states_geojson['features']:\n",
    "    states.append(feature['properties']['NAME'])\n",
    "\n",
    "# Display first 5 states\n",
    "sorted(states)[0:5]"
   ]
  },
  {
   "cell_type": "markdown",
   "metadata": {},
   "source": [
    "**Function *prep_colors* is preparing an array of colors and passing it to GeoJSON layer.**"
   ]
  },
  {
   "cell_type": "code",
   "execution_count": 6,
   "metadata": {},
   "outputs": [],
   "source": [
    "def prep_colors(s_val, cmap):\n",
    "    \"\"\"\n",
    "    s_val - series with values for each state to map to color\n",
    "    cmap - Matplotlib color map\n",
    "    \"\"\"\n",
    "    # Define dictionary that maps country to value to plot\n",
    "    state2toval  = s_val.to_dict()\n",
    "    # Display first 5 key-value pairs in dictionary\n",
    "    #list(state2toval.items())[0:5]\n",
    "\n",
    "    # Use state2val dictionary to map each state to a color. \n",
    "    # Scale dictionary values to lie between 0 and 1\n",
    "    min_tor = min(state2toval.values())\n",
    "    max_tor = max(state2toval.values())\n",
    "    tor_range = max_tor - min_tor\n",
    "\n",
    "    def calculate_color(tor):\n",
    "        \"\"\"\n",
    "        Convert tornado to a color\n",
    "        \"\"\"\n",
    "        # make tornado count between 0 and 1\n",
    "        norm_tor = (tor - min_tor) / tor_range\n",
    "\n",
    "        # invert so that high tornado counts gives dark color\n",
    "        inverse_tor = 1.0 - norm_tor\n",
    "\n",
    "        # transform values to a matplotlib color\n",
    "        mpl_color = cmap(inverse_tor)\n",
    "\n",
    "        # transform from a matplotlib color to a valid CSS color\n",
    "        gmaps_color = to_hex(mpl_color, keep_alpha=False)\n",
    "\n",
    "        return gmaps_color\n",
    "\n",
    "    # Build an array of colors, one for each state, and pass it to GeoJSON layer.\n",
    "    us_states_geojson = gmaps.geojson_geometries.load_geometry('us-states')\n",
    "    colors = []\n",
    "    for feature in us_states_geojson['features']:\n",
    "        state_name = feature['properties']['NAME']\n",
    "        try:\n",
    "            tor = state2toval[state_name]\n",
    "            color = calculate_color(tor)\n",
    "        except KeyError:\n",
    "            # no count for that state: return default color\n",
    "            print(state_name)\n",
    "            color = (0, 0, 0, 0.3)\n",
    "        colors.append(color)\n",
    "    return colors\n"
   ]
  },
  {
   "cell_type": "markdown",
   "metadata": {},
   "source": [
    "### Annual Average of Tornadoes per State (1996 - 2019)"
   ]
  },
  {
   "cell_type": "code",
   "execution_count": 7,
   "metadata": {
    "scrolled": true
   },
   "outputs": [
    {
     "data": {
      "text/plain": [
       "Alabama       1581\n",
       "Alaska           3\n",
       "Arizona        105\n",
       "Arkansas      1240\n",
       "California     232\n",
       "Name: STATE, dtype: int64"
      ]
     },
     "execution_count": 7,
     "metadata": {},
     "output_type": "execute_result"
    }
   ],
   "source": [
    "# Create series with tornado count for each state (1996 -2019)\n",
    "s_tor = tor_geo.STATE.value_counts().sort_index()\n",
    "\n",
    "s_tor.head()"
   ]
  },
  {
   "cell_type": "code",
   "execution_count": 8,
   "metadata": {},
   "outputs": [
    {
     "data": {
      "text/plain": [
       "Alabama       65.88\n",
       "Alaska         0.12\n",
       "Arizona        4.38\n",
       "Arkansas      51.67\n",
       "California     9.67\n",
       "Name: STATE, dtype: float64"
      ]
     },
     "execution_count": 8,
     "metadata": {},
     "output_type": "execute_result"
    }
   ],
   "source": [
    "# Count average number of tornadoes per state in period 1996 - 2019\n",
    "nyears = tor_geo.YEAR.nunique()\n",
    "s_tor_avg = round((s_tor / nyears), 2)\n",
    "\n",
    "s_tor_avg.head()"
   ]
  },
  {
   "cell_type": "code",
   "execution_count": 9,
   "metadata": {},
   "outputs": [
    {
     "data": {
      "text/plain": [
       "Nebraska        53.33\n",
       "Florida         55.54\n",
       "Iowa            57.42\n",
       "Missouri        57.54\n",
       "Mississippi     63.17\n",
       "Illinois        63.62\n",
       "Alabama         65.88\n",
       "Oklahoma        76.08\n",
       "Kansas          96.29\n",
       "Texas          139.54\n",
       "Name: STATE, dtype: float64"
      ]
     },
     "execution_count": 9,
     "metadata": {},
     "output_type": "execute_result"
    }
   ],
   "source": [
    "# Calculate top 10 states in reverse order\n",
    "s_tor_avg10 = s_tor_avg.sort_values(ascending=False)[:10][::-1]   # Indiana is 19th\n",
    "s_tor_avg10"
   ]
  },
  {
   "cell_type": "markdown",
   "metadata": {},
   "source": [
    "**Plot top 10 states with average number of tornadoes.**"
   ]
  },
  {
   "cell_type": "code",
   "execution_count": 112,
   "metadata": {
    "scrolled": false
   },
   "outputs": [
    {
     "data": {
      "image/png": "[encoded data removed]",
      "text/plain": [
       "<Figure size 576x360 with 1 Axes>"
      ]
     },
     "metadata": {
      "needs_background": "light"
     },
     "output_type": "display_data"
    }
   ],
   "source": [
    "# Generate bar plot\n",
    "fig, ax = plt.subplots(figsize=(8, 5))\n",
    "s_tor_avg10.plot(kind='barh',\n",
    "                 color='mediumblue',\n",
    "                 alpha=1,\n",
    "                 rot=0,\n",
    "                 legend=True,\n",
    "                 label='Tornado Count',\n",
    "                 width=0.7,\n",
    "                 ax=ax)                                       \n",
    "\n",
    "# Set textual properties\n",
    "plt.title('Average Number of Tornadoes (1996 - 2019)\\nTop 10 States')\n",
    "plt.xlabel('Number of Tornadoes')\n",
    "plt.ylabel('States')\n",
    "plt.text(82, 5.5,\"Note: Indiana ranked 19th\", \n",
    "         color='navy', fontsize=13, \n",
    "         bbox={'facecolor':'lightyellow', 'alpha':1.0, 'pad':10})\n",
    "\n",
    "plt.legend(fancybox=True, shadow=True)\n",
    "\n",
    "# set grid for y axis\n",
    "ax.set_axisbelow(True)\n",
    "ax.grid(axis='x', alpha=0.8)\n",
    "\n",
    "#plt.savefig('./Images/Tornadoes Avg Number - Top 10')\n",
    "plt.show()"
   ]
  },
  {
   "cell_type": "markdown",
   "metadata": {},
   "source": [
    "Texas is the state with most tornadoes in the period 1996 - 2019, followed by Kansas, Oklahoma and Alabama. Indiana was ranked 19th."
   ]
  },
  {
   "cell_type": "markdown",
   "metadata": {},
   "source": [
    "**Prepare colors and plot the map**"
   ]
  },
  {
   "cell_type": "markdown",
   "metadata": {},
   "source": [
    "Runing function **prep_colors** with tornado average series and colormap **inferno**."
   ]
  },
  {
   "cell_type": "code",
   "execution_count": 11,
   "metadata": {},
   "outputs": [],
   "source": [
    "# Prepare colors to pass to GeoJSON leyer\n",
    "colors = prep_colors(s_tor_avg, inferno)"
   ]
  },
  {
   "cell_type": "code",
   "execution_count": 12,
   "metadata": {},
   "outputs": [
    {
     "data": {
      "application/vnd.jupyter.widget-view+json": {
       "model_id": "9c32d7c0437d4b8e8481a29447f245a3",
       "version_major": 2,
       "version_minor": 0
      },
      "text/plain": [
       "Figure(layout=FigureLayout(height='420px'))"
      ]
     },
     "metadata": {},
     "output_type": "display_data"
    }
   ],
   "source": [
    "# Plot map\n",
    "# Load us-states geometry\n",
    "us_states_geojson = gmaps.geojson_geometries.load_geometry('us-states')\n",
    "\n",
    "# Build base map\n",
    "fig = gmaps.figure(center=(39, -98), zoom_level=4)\n",
    "\n",
    "# Build geojson layer\n",
    "tornado_layer = gmaps.geojson_layer(us_states_geojson,\n",
    "                                    fill_color=colors,\n",
    "                                    stroke_color=colors,\n",
    "                                    fill_opacity=0.6)\n",
    "\n",
    "fig.add_layer(tornado_layer)\n",
    "\n",
    "fig"
   ]
  },
  {
   "cell_type": "markdown",
   "metadata": {},
   "source": [
    "On the above map we can clearly see so called **\"Tornado Alley\"**, the area of the United State where tornadoes are most frequent."
   ]
  },
  {
   "cell_type": "markdown",
   "metadata": {},
   "source": [
    "### Annual Average of Tornadoes per 10K sq mi per State (1996 - 2019)"
   ]
  },
  {
   "cell_type": "markdown",
   "metadata": {},
   "source": [
    "Let's see the map of tornadoes by states when we take in consideration the size of each state."
   ]
  },
  {
   "cell_type": "markdown",
   "metadata": {},
   "source": [
    "**Extract area for each state from GeoJSON geometry**"
   ]
  },
  {
   "cell_type": "markdown",
   "metadata": {},
   "source": [
    "We will extartct the size of each state in square miles from GeoJSON document."
   ]
  },
  {
   "cell_type": "code",
   "execution_count": 13,
   "metadata": {},
   "outputs": [
    {
     "data": {
      "text/html": [
       "<div>\n",
       "<style scoped>\n",
       "    .dataframe tbody tr th:only-of-type {\n",
       "        vertical-align: middle;\n",
       "    }\n",
       "\n",
       "    .dataframe tbody tr th {\n",
       "        vertical-align: top;\n",
       "    }\n",
       "\n",
       "    .dataframe thead th {\n",
       "        text-align: right;\n",
       "    }\n",
       "</style>\n",
       "<table border=\"1\" class=\"dataframe\">\n",
       "  <thead>\n",
       "    <tr style=\"text-align: right;\">\n",
       "      <th></th>\n",
       "      <th>STATE</th>\n",
       "      <th>AREA</th>\n",
       "    </tr>\n",
       "  </thead>\n",
       "  <tbody>\n",
       "    <tr>\n",
       "      <th>25</th>\n",
       "      <td>Alabama</td>\n",
       "      <td>50645.326</td>\n",
       "    </tr>\n",
       "    <tr>\n",
       "      <th>26</th>\n",
       "      <td>Alaska</td>\n",
       "      <td>570640.950</td>\n",
       "    </tr>\n",
       "    <tr>\n",
       "      <th>0</th>\n",
       "      <td>Arizona</td>\n",
       "      <td>113594.084</td>\n",
       "    </tr>\n",
       "    <tr>\n",
       "      <th>1</th>\n",
       "      <td>Arkansas</td>\n",
       "      <td>52035.477</td>\n",
       "    </tr>\n",
       "    <tr>\n",
       "      <th>2</th>\n",
       "      <td>California</td>\n",
       "      <td>155779.220</td>\n",
       "    </tr>\n",
       "  </tbody>\n",
       "</table>\n",
       "</div>"
      ],
      "text/plain": [
       "         STATE        AREA\n",
       "25     Alabama   50645.326\n",
       "26      Alaska  570640.950\n",
       "0      Arizona  113594.084\n",
       "1     Arkansas   52035.477\n",
       "2   California  155779.220"
      ]
     },
     "execution_count": 13,
     "metadata": {},
     "output_type": "execute_result"
    }
   ],
   "source": [
    "# Define empty dataframe\n",
    "states_area = pd.DataFrame()\n",
    "states_area['STATE'] = \"\"\n",
    "states_area['AREA'] = \"\"\n",
    "\n",
    "# Populate dataframe from GeoJSON\n",
    "ind = 0\n",
    "for feature in us_states_geojson['features']:\n",
    "    states_area.loc[ind, 'STATE'] = feature['properties']['NAME']\n",
    "    states_area.loc[ind, 'AREA']= feature['properties']['CENSUSAREA']\n",
    "    ind += 1\n",
    "\n",
    "# Convert object to float for AREA and sort per state   \n",
    "states_area.AREA = states_area.AREA.astype(float)\n",
    "states_area = states_area.sort_values('STATE')\n",
    "\n",
    "states_area.head()"
   ]
  },
  {
   "cell_type": "code",
   "execution_count": 14,
   "metadata": {},
   "outputs": [
    {
     "data": {
      "text/plain": [
       "STATE\n",
       "Alabama        50645.326\n",
       "Alaska        570640.950\n",
       "Arizona       113594.084\n",
       "Arkansas       52035.477\n",
       "California    155779.220\n",
       "Name: AREA, dtype: float64"
      ]
     },
     "execution_count": 14,
     "metadata": {},
     "output_type": "execute_result"
    }
   ],
   "source": [
    "# Create series with area as values\n",
    "states_area.set_index('STATE', inplace=True)\n",
    "s_area = states_area.AREA\n",
    "s_area.head()"
   ]
  },
  {
   "cell_type": "code",
   "execution_count": 15,
   "metadata": {},
   "outputs": [
    {
     "data": {
      "text/plain": [
       "Alabama       65.88\n",
       "Alaska         0.12\n",
       "Arizona        4.38\n",
       "Arkansas      51.67\n",
       "California     9.67\n",
       "Name: AVG_COUNT, dtype: float64"
      ]
     },
     "execution_count": 15,
     "metadata": {},
     "output_type": "execute_result"
    }
   ],
   "source": [
    "# Rename series name\n",
    "s_tor_avg.name='AVG_COUNT'\n",
    "s_tor_avg.head()"
   ]
  },
  {
   "cell_type": "code",
   "execution_count": 16,
   "metadata": {},
   "outputs": [
    {
     "data": {
      "text/html": [
       "<div>\n",
       "<style scoped>\n",
       "    .dataframe tbody tr th:only-of-type {\n",
       "        vertical-align: middle;\n",
       "    }\n",
       "\n",
       "    .dataframe tbody tr th {\n",
       "        vertical-align: top;\n",
       "    }\n",
       "\n",
       "    .dataframe thead th {\n",
       "        text-align: right;\n",
       "    }\n",
       "</style>\n",
       "<table border=\"1\" class=\"dataframe\">\n",
       "  <thead>\n",
       "    <tr style=\"text-align: right;\">\n",
       "      <th></th>\n",
       "      <th>AVG_COUNT</th>\n",
       "      <th>AREA</th>\n",
       "    </tr>\n",
       "  </thead>\n",
       "  <tbody>\n",
       "    <tr>\n",
       "      <th>Alabama</th>\n",
       "      <td>65.88</td>\n",
       "      <td>50645.326</td>\n",
       "    </tr>\n",
       "    <tr>\n",
       "      <th>Alaska</th>\n",
       "      <td>0.12</td>\n",
       "      <td>570640.950</td>\n",
       "    </tr>\n",
       "    <tr>\n",
       "      <th>Arizona</th>\n",
       "      <td>4.38</td>\n",
       "      <td>113594.084</td>\n",
       "    </tr>\n",
       "    <tr>\n",
       "      <th>Arkansas</th>\n",
       "      <td>51.67</td>\n",
       "      <td>52035.477</td>\n",
       "    </tr>\n",
       "    <tr>\n",
       "      <th>California</th>\n",
       "      <td>9.67</td>\n",
       "      <td>155779.220</td>\n",
       "    </tr>\n",
       "  </tbody>\n",
       "</table>\n",
       "</div>"
      ],
      "text/plain": [
       "            AVG_COUNT        AREA\n",
       "Alabama         65.88   50645.326\n",
       "Alaska           0.12  570640.950\n",
       "Arizona          4.38  113594.084\n",
       "Arkansas        51.67   52035.477\n",
       "California       9.67  155779.220"
      ]
     },
     "execution_count": 16,
     "metadata": {},
     "output_type": "execute_result"
    }
   ],
   "source": [
    "# Join two series, remove name for index axis\n",
    "tor_area = pd.concat([s_tor_avg, s_area], axis=1)\n",
    "tor_area.index.name=None\n",
    "tor_area.head()"
   ]
  },
  {
   "cell_type": "code",
   "execution_count": 17,
   "metadata": {},
   "outputs": [
    {
     "data": {
      "text/html": [
       "<div>\n",
       "<style scoped>\n",
       "    .dataframe tbody tr th:only-of-type {\n",
       "        vertical-align: middle;\n",
       "    }\n",
       "\n",
       "    .dataframe tbody tr th {\n",
       "        vertical-align: top;\n",
       "    }\n",
       "\n",
       "    .dataframe thead th {\n",
       "        text-align: right;\n",
       "    }\n",
       "</style>\n",
       "<table border=\"1\" class=\"dataframe\">\n",
       "  <thead>\n",
       "    <tr style=\"text-align: right;\">\n",
       "      <th></th>\n",
       "      <th>AVG_COUNT</th>\n",
       "      <th>AREA</th>\n",
       "      <th>Tornadoes per 10K sq mi</th>\n",
       "    </tr>\n",
       "  </thead>\n",
       "  <tbody>\n",
       "    <tr>\n",
       "      <th>Alabama</th>\n",
       "      <td>65.88</td>\n",
       "      <td>50645.326</td>\n",
       "      <td>13.0</td>\n",
       "    </tr>\n",
       "    <tr>\n",
       "      <th>Alaska</th>\n",
       "      <td>0.12</td>\n",
       "      <td>570640.950</td>\n",
       "      <td>0.0</td>\n",
       "    </tr>\n",
       "    <tr>\n",
       "      <th>Arizona</th>\n",
       "      <td>4.38</td>\n",
       "      <td>113594.084</td>\n",
       "      <td>0.0</td>\n",
       "    </tr>\n",
       "    <tr>\n",
       "      <th>Arkansas</th>\n",
       "      <td>51.67</td>\n",
       "      <td>52035.477</td>\n",
       "      <td>10.0</td>\n",
       "    </tr>\n",
       "    <tr>\n",
       "      <th>California</th>\n",
       "      <td>9.67</td>\n",
       "      <td>155779.220</td>\n",
       "      <td>1.0</td>\n",
       "    </tr>\n",
       "  </tbody>\n",
       "</table>\n",
       "</div>"
      ],
      "text/plain": [
       "            AVG_COUNT        AREA  Tornadoes per 10K sq mi\n",
       "Alabama         65.88   50645.326                     13.0\n",
       "Alaska           0.12  570640.950                      0.0\n",
       "Arizona          4.38  113594.084                      0.0\n",
       "Arkansas        51.67   52035.477                     10.0\n",
       "California       9.67  155779.220                      1.0"
      ]
     },
     "execution_count": 17,
     "metadata": {},
     "output_type": "execute_result"
    }
   ],
   "source": [
    "# Add column with average tornado count per 10K sq mi\n",
    "tor_area['Tornadoes per 10K sq mi'] = round((10000 * tor_area.AVG_COUNT / tor_area.AREA), 0)\n",
    "\n",
    "tor_area.head()"
   ]
  },
  {
   "cell_type": "code",
   "execution_count": 18,
   "metadata": {
    "scrolled": true
   },
   "outputs": [
    {
     "data": {
      "text/plain": [
       "Alabama       13.0\n",
       "Alaska         0.0\n",
       "Arizona        0.0\n",
       "Arkansas      10.0\n",
       "California     1.0\n",
       "Name: Tornadoes per 10K sq mi, dtype: float64"
      ]
     },
     "execution_count": 18,
     "metadata": {},
     "output_type": "execute_result"
    }
   ],
   "source": [
    "# Create series for average tornado count per 10K sq mi\n",
    "s_tor_area = tor_area['Tornadoes per 10K sq mi']\n",
    "s_tor_area.head()"
   ]
  },
  {
   "cell_type": "code",
   "execution_count": 19,
   "metadata": {},
   "outputs": [
    {
     "data": {
      "text/plain": [
       "Iowa                    10.0\n",
       "Florida                 10.0\n",
       "Arkansas                10.0\n",
       "Louisiana               11.0\n",
       "Illinois                11.0\n",
       "Oklahoma                11.0\n",
       "Kansas                  12.0\n",
       "Mississippi             13.0\n",
       "Alabama                 13.0\n",
       "District of Columbia    20.0\n",
       "Name: Tornadoes per 10K sq mi, dtype: float64"
      ]
     },
     "execution_count": 19,
     "metadata": {},
     "output_type": "execute_result"
    }
   ],
   "source": [
    "# Calculate top 10 states in reverse order\n",
    "s_tor_area10 = s_tor_area.sort_values(ascending=False)[:10][::-1]   # Indiana is 11th\n",
    "s_tor_area10"
   ]
  },
  {
   "cell_type": "markdown",
   "metadata": {},
   "source": [
    "**Plot top 10 states with average number of tornadoes per 10K square miles.**"
   ]
  },
  {
   "cell_type": "code",
   "execution_count": 111,
   "metadata": {
    "scrolled": false
   },
   "outputs": [
    {
     "data": {
      "image/png": "[encoded data removed]",
      "text/plain": [
       "<Figure size 576x360 with 1 Axes>"
      ]
     },
     "metadata": {
      "needs_background": "light"
     },
     "output_type": "display_data"
    }
   ],
   "source": [
    "# Generate bar plot\n",
    "fig, ax = plt.subplots(figsize=(8, 5))\n",
    "s_tor_area10.plot(kind='barh',\n",
    "                 color='mediumblue',\n",
    "                 alpha=1,\n",
    "                 rot=0,\n",
    "                 legend=True,\n",
    "                 label='Tornado Count',\n",
    "                 width=0.7,\n",
    "                 ax=ax)                                       \n",
    "\n",
    "# Set textual properties\n",
    "plt.title('Average Number of Tornadoes per 10K sq mi (1996 - 2019)\\nTop 10 States')\n",
    "plt.xlabel('Number of Tornadoes')\n",
    "plt.ylabel('States')\n",
    "plt.text(12, 4.5,\"Note: Indiana ranked 11th\", \n",
    "         color='navy', fontsize=13, \n",
    "         bbox={'facecolor':'lightyellow', 'alpha':1.0, 'pad':10})\n",
    "\n",
    "\n",
    "plt.legend(fancybox=True, shadow=True)\n",
    "\n",
    "# set grid for y axis\n",
    "ax.set_axisbelow(True)\n",
    "ax.grid(axis='x', alpha=0.8)\n",
    "\n",
    "#plt.savefig('./Images/Tornadoes Avg Number per 10K sq mi - Top 10')\n",
    "plt.show()"
   ]
  },
  {
   "cell_type": "markdown",
   "metadata": {},
   "source": [
    "As expected there are some changes comparing to the previous plot. Two changes are very obvious. First, District of Columbia, because of its small size, had most tornadoes per 10K square miles (20). Second, opposite to DC, Texas as a very big state is ranked 25th, with 5 tornadoes per 10K square miles. "
   ]
  },
  {
   "cell_type": "markdown",
   "metadata": {},
   "source": [
    "**Prepare colors and plot the map**"
   ]
  },
  {
   "cell_type": "markdown",
   "metadata": {},
   "source": [
    "Runing function **prep_colors** with tornado average per area series and colormap **inferno**."
   ]
  },
  {
   "cell_type": "code",
   "execution_count": 21,
   "metadata": {},
   "outputs": [],
   "source": [
    "# Prepare colors to pass to GeoJSON leyer\n",
    "colors = prep_colors(s_tor_area, inferno)"
   ]
  },
  {
   "cell_type": "code",
   "execution_count": 22,
   "metadata": {},
   "outputs": [
    {
     "data": {
      "application/vnd.jupyter.widget-view+json": {
       "model_id": "7f75c1f4a7b4487098f4d2813a4a7fb4",
       "version_major": 2,
       "version_minor": 0
      },
      "text/plain": [
       "Figure(layout=FigureLayout(height='420px'))"
      ]
     },
     "metadata": {},
     "output_type": "display_data"
    }
   ],
   "source": [
    "us_states_geojson = gmaps.geojson_geometries.load_geometry('us-states')\n",
    "\n",
    "fig = gmaps.figure(center=(39, -98), zoom_level=4)\n",
    "\n",
    "tornado_layer = gmaps.geojson_layer(us_states_geojson,\n",
    "                                    fill_color=colors,\n",
    "                                    stroke_color=colors,\n",
    "                                    fill_opacity=0.6)\n",
    "\n",
    "fig.add_layer(tornado_layer)\n",
    "\n",
    "fig"
   ]
  },
  {
   "cell_type": "markdown",
   "metadata": {},
   "source": [
    "**\"Tornado Alley\"** is still very noticeable with Texas plotted in brighter color."
   ]
  },
  {
   "cell_type": "markdown",
   "metadata": {},
   "source": [
    "### Total Tornado Fatalities per State (1996 - 2019)"
   ]
  },
  {
   "cell_type": "markdown",
   "metadata": {},
   "source": [
    "Let's see how tornado fatalities are distibuted over the states."
   ]
  },
  {
   "cell_type": "code",
   "execution_count": 23,
   "metadata": {},
   "outputs": [
    {
     "data": {
      "text/html": [
       "<div>\n",
       "<style scoped>\n",
       "    .dataframe tbody tr th:only-of-type {\n",
       "        vertical-align: middle;\n",
       "    }\n",
       "\n",
       "    .dataframe tbody tr th {\n",
       "        vertical-align: top;\n",
       "    }\n",
       "\n",
       "    .dataframe thead th {\n",
       "        text-align: right;\n",
       "    }\n",
       "</style>\n",
       "<table border=\"1\" class=\"dataframe\">\n",
       "  <thead>\n",
       "    <tr style=\"text-align: right;\">\n",
       "      <th></th>\n",
       "      <th>EVENT_ID</th>\n",
       "      <th>STATE</th>\n",
       "      <th>YEAR</th>\n",
       "      <th>MONTH_NAME</th>\n",
       "      <th>BEGIN_DATE_TIME</th>\n",
       "      <th>TOR_F_SCALE</th>\n",
       "      <th>BEGIN_LAT</th>\n",
       "      <th>BEGIN_LON</th>\n",
       "      <th>INJURIES</th>\n",
       "      <th>DEATHS</th>\n",
       "      <th>DAMAGE</th>\n",
       "    </tr>\n",
       "  </thead>\n",
       "  <tbody>\n",
       "    <tr>\n",
       "      <th>0</th>\n",
       "      <td>5539021</td>\n",
       "      <td>Missouri</td>\n",
       "      <td>1996</td>\n",
       "      <td>January</td>\n",
       "      <td>18-JAN-96 08:05:00</td>\n",
       "      <td>F1</td>\n",
       "      <td>36.18</td>\n",
       "      <td>-89.87</td>\n",
       "      <td>0</td>\n",
       "      <td>0</td>\n",
       "      <td>50000.0</td>\n",
       "    </tr>\n",
       "    <tr>\n",
       "      <th>1</th>\n",
       "      <td>5535520</td>\n",
       "      <td>Arkansas</td>\n",
       "      <td>1996</td>\n",
       "      <td>January</td>\n",
       "      <td>18-JAN-96 07:30:00</td>\n",
       "      <td>F1</td>\n",
       "      <td>34.55</td>\n",
       "      <td>-90.97</td>\n",
       "      <td>3</td>\n",
       "      <td>0</td>\n",
       "      <td>30000.0</td>\n",
       "    </tr>\n",
       "    <tr>\n",
       "      <th>2</th>\n",
       "      <td>5574627</td>\n",
       "      <td>Louisiana</td>\n",
       "      <td>1996</td>\n",
       "      <td>January</td>\n",
       "      <td>26-JAN-96 09:35:00</td>\n",
       "      <td>F1</td>\n",
       "      <td>30.57</td>\n",
       "      <td>-92.32</td>\n",
       "      <td>3</td>\n",
       "      <td>0</td>\n",
       "      <td>15000.0</td>\n",
       "    </tr>\n",
       "    <tr>\n",
       "      <th>3</th>\n",
       "      <td>5558382</td>\n",
       "      <td>Indiana</td>\n",
       "      <td>1996</td>\n",
       "      <td>January</td>\n",
       "      <td>18-JAN-96 14:30:00</td>\n",
       "      <td>F0</td>\n",
       "      <td>40.50</td>\n",
       "      <td>-86.97</td>\n",
       "      <td>0</td>\n",
       "      <td>0</td>\n",
       "      <td>0.0</td>\n",
       "    </tr>\n",
       "    <tr>\n",
       "      <th>4</th>\n",
       "      <td>5535845</td>\n",
       "      <td>Texas</td>\n",
       "      <td>1996</td>\n",
       "      <td>January</td>\n",
       "      <td>17-JAN-96 21:55:00</td>\n",
       "      <td>F2</td>\n",
       "      <td>33.72</td>\n",
       "      <td>-96.15</td>\n",
       "      <td>5</td>\n",
       "      <td>0</td>\n",
       "      <td>150000.0</td>\n",
       "    </tr>\n",
       "  </tbody>\n",
       "</table>\n",
       "</div>"
      ],
      "text/plain": [
       "   EVENT_ID      STATE  YEAR MONTH_NAME     BEGIN_DATE_TIME TOR_F_SCALE  \\\n",
       "0   5539021   Missouri  1996    January  18-JAN-96 08:05:00          F1   \n",
       "1   5535520   Arkansas  1996    January  18-JAN-96 07:30:00          F1   \n",
       "2   5574627  Louisiana  1996    January  26-JAN-96 09:35:00          F1   \n",
       "3   5558382    Indiana  1996    January  18-JAN-96 14:30:00          F0   \n",
       "4   5535845      Texas  1996    January  17-JAN-96 21:55:00          F2   \n",
       "\n",
       "   BEGIN_LAT  BEGIN_LON  INJURIES  DEATHS    DAMAGE  \n",
       "0      36.18     -89.87         0       0   50000.0  \n",
       "1      34.55     -90.97         3       0   30000.0  \n",
       "2      30.57     -92.32         3       0   15000.0  \n",
       "3      40.50     -86.97         0       0       0.0  \n",
       "4      33.72     -96.15         5       0  150000.0  "
      ]
     },
     "execution_count": 23,
     "metadata": {},
     "output_type": "execute_result"
    }
   ],
   "source": [
    "tor_geo.head()"
   ]
  },
  {
   "cell_type": "code",
   "execution_count": 24,
   "metadata": {},
   "outputs": [
    {
     "data": {
      "text/plain": [
       "STATE\n",
       "Alabama       380\n",
       "Alaska          0\n",
       "Arizona         0\n",
       "Arkansas      120\n",
       "California      0\n",
       "Name: DEATHS, dtype: int64"
      ]
     },
     "execution_count": 24,
     "metadata": {},
     "output_type": "execute_result"
    }
   ],
   "source": [
    "# Group by state and sum deaths for each state\n",
    "s_deaths = tor_geo.groupby('STATE').DEATHS.sum()\n",
    "s_deaths.head()"
   ]
  },
  {
   "cell_type": "code",
   "execution_count": 25,
   "metadata": {},
   "outputs": [
    {
     "data": {
      "text/plain": [
       "STATE\n",
       "North Carolina     48\n",
       "Florida            80\n",
       "Texas              90\n",
       "Georgia           102\n",
       "Mississippi       103\n",
       "Arkansas          120\n",
       "Oklahoma          126\n",
       "Tennessee         166\n",
       "Missouri          248\n",
       "Alabama           380\n",
       "Name: DEATHS, dtype: int64"
      ]
     },
     "execution_count": 25,
     "metadata": {},
     "output_type": "execute_result"
    }
   ],
   "source": [
    "# Calculate top 10 states in reverse order\n",
    "s_deaths10 = s_deaths.sort_values(ascending=False)[:10][::-1]   # Indiana is 11th\n",
    "s_deaths10"
   ]
  },
  {
   "cell_type": "markdown",
   "metadata": {},
   "source": [
    "**Plot top 10 states with total number of fatalities.**"
   ]
  },
  {
   "cell_type": "code",
   "execution_count": 114,
   "metadata": {
    "scrolled": false
   },
   "outputs": [
    {
     "data": {
      "image/png": "[encoded data removed]",
      "text/plain": [
       "<Figure size 576x360 with 1 Axes>"
      ]
     },
     "metadata": {
      "needs_background": "light"
     },
     "output_type": "display_data"
    }
   ],
   "source": [
    "# Generate bar plot\n",
    "fig, ax = plt.subplots(figsize=(8, 5))\n",
    "s_deaths10.plot(kind='barh',\n",
    "                 color='mediumblue',\n",
    "                 alpha=1,\n",
    "                 rot=0,\n",
    "                 legend=True,\n",
    "                 label='Fatalities',\n",
    "                 width=0.7,\n",
    "                 ax=ax)                                       \n",
    "\n",
    "# Set textual properties\n",
    "plt.title('Total Number of Fatalities (1996 - 2019)\\nTop 10 States')\n",
    "plt.xlabel('Number of Fatalities')\n",
    "plt.ylabel('States')\n",
    "plt.text(220, 5,\"Note: Indiana ranked 11th\", \n",
    "         color='navy', fontsize=13, \n",
    "         bbox={'facecolor':'lightyellow', 'alpha':1.0, 'pad':10})\n",
    "\n",
    "\n",
    "plt.legend(fancybox=True, shadow=True)\n",
    "\n",
    "# set grid for y axis\n",
    "ax.set_axisbelow(True)\n",
    "ax.grid(axis='x', alpha=0.8)\n",
    "\n",
    "#plt.savefig('./Images/Total Number of Fatalities - Top 10')\n",
    "plt.show()"
   ]
  },
  {
   "cell_type": "markdown",
   "metadata": {},
   "source": [
    "Alabama had most fatalities, followed by Missouri and Tennessee. Indiana is ranked 11th."
   ]
  },
  {
   "cell_type": "markdown",
   "metadata": {},
   "source": [
    "**Prepare colors and plot the map**"
   ]
  },
  {
   "cell_type": "markdown",
   "metadata": {},
   "source": [
    "Runing function **prep_colors** with tornado deaths series and colormap **inferno**."
   ]
  },
  {
   "cell_type": "code",
   "execution_count": 27,
   "metadata": {},
   "outputs": [],
   "source": [
    "# Prepare colors to pass to GeoJSON leyer\n",
    "colors = prep_colors(s_deaths, inferno)"
   ]
  },
  {
   "cell_type": "code",
   "execution_count": 28,
   "metadata": {},
   "outputs": [
    {
     "data": {
      "application/vnd.jupyter.widget-view+json": {
       "model_id": "c803c4aea8724477b2a077433490f2b2",
       "version_major": 2,
       "version_minor": 0
      },
      "text/plain": [
       "Figure(layout=FigureLayout(height='420px'))"
      ]
     },
     "metadata": {},
     "output_type": "display_data"
    }
   ],
   "source": [
    "us_states_geojson = gmaps.geojson_geometries.load_geometry('us-states')\n",
    "\n",
    "fig = gmaps.figure(center=(39, -98), zoom_level=4)\n",
    "\n",
    "tornado_layer = gmaps.geojson_layer(us_states_geojson,\n",
    "                                    fill_color=colors,\n",
    "                                    stroke_color=colors,\n",
    "                                    fill_opacity=0.6)\n",
    "\n",
    "fig.add_layer(tornado_layer)\n",
    "\n",
    "fig"
   ]
  },
  {
   "cell_type": "markdown",
   "metadata": {},
   "source": [
    "From the map we can conclude that south states of 'Tornado Alley\" have most fatalities, with exception of Missouri."
   ]
  },
  {
   "cell_type": "markdown",
   "metadata": {},
   "source": [
    "### Tornado Heatmap for Total Count (1996 - 2019)"
   ]
  },
  {
   "cell_type": "code",
   "execution_count": 29,
   "metadata": {},
   "outputs": [
    {
     "data": {
      "text/plain": [
       "38"
      ]
     },
     "execution_count": 29,
     "metadata": {},
     "output_type": "execute_result"
    }
   ],
   "source": [
    "# Copy dataframe\n",
    "tor_heat = df_tor.copy()\n",
    "\n",
    "# Check for missing values\n",
    "len(tor_heat[tor_heat.isna().any(axis=1)])"
   ]
  },
  {
   "cell_type": "code",
   "execution_count": 30,
   "metadata": {},
   "outputs": [
    {
     "data": {
      "text/plain": [
       "(32968, 11)"
      ]
     },
     "execution_count": 30,
     "metadata": {},
     "output_type": "execute_result"
    }
   ],
   "source": [
    "# Drop rows with missing coordinates\n",
    "tor_heat.dropna(inplace=True)\n",
    "tor_heat.shape"
   ]
  },
  {
   "cell_type": "markdown",
   "metadata": {},
   "source": [
    "**Use citipy to determine cities closest to tornadoes' latitude and longitude**"
   ]
  },
  {
   "cell_type": "code",
   "execution_count": 31,
   "metadata": {},
   "outputs": [
    {
     "data": {
      "text/plain": [
       "32968"
      ]
     },
     "execution_count": 31,
     "metadata": {},
     "output_type": "execute_result"
    }
   ],
   "source": [
    "# List for holding lat_lngs and cities\n",
    "lat_lngs = []\n",
    "cities = []\n",
    "\n",
    "# Create list of tuples with tornadoes coordinates\n",
    "for x in range(len(tor_heat)):\n",
    "    lat_lngs.append((tor_heat.iloc[x, 6], tor_heat.iloc[x, 7]))\n",
    "\n",
    "# Identify nearest city for each lat, lng combination\n",
    "for lat_lng in lat_lngs:\n",
    "    city = citipy.nearest_city(lat_lng[0], lat_lng[1]).city_name\n",
    "    cities.append(city)\n",
    "\n",
    "# Print the city count \n",
    "len(cities)"
   ]
  },
  {
   "cell_type": "code",
   "execution_count": 32,
   "metadata": {},
   "outputs": [
    {
     "data": {
      "text/html": [
       "<div>\n",
       "<style scoped>\n",
       "    .dataframe tbody tr th:only-of-type {\n",
       "        vertical-align: middle;\n",
       "    }\n",
       "\n",
       "    .dataframe tbody tr th {\n",
       "        vertical-align: top;\n",
       "    }\n",
       "\n",
       "    .dataframe thead th {\n",
       "        text-align: right;\n",
       "    }\n",
       "</style>\n",
       "<table border=\"1\" class=\"dataframe\">\n",
       "  <thead>\n",
       "    <tr style=\"text-align: right;\">\n",
       "      <th></th>\n",
       "      <th>Cities</th>\n",
       "    </tr>\n",
       "  </thead>\n",
       "  <tbody>\n",
       "    <tr>\n",
       "      <th>0</th>\n",
       "      <td>kennett</td>\n",
       "    </tr>\n",
       "    <tr>\n",
       "      <th>1</th>\n",
       "      <td>west helena</td>\n",
       "    </tr>\n",
       "    <tr>\n",
       "      <th>2</th>\n",
       "      <td>eunice</td>\n",
       "    </tr>\n",
       "    <tr>\n",
       "      <th>3</th>\n",
       "      <td>west lafayette</td>\n",
       "    </tr>\n",
       "    <tr>\n",
       "      <th>4</th>\n",
       "      <td>bonham</td>\n",
       "    </tr>\n",
       "  </tbody>\n",
       "</table>\n",
       "</div>"
      ],
      "text/plain": [
       "           Cities\n",
       "0         kennett\n",
       "1     west helena\n",
       "2          eunice\n",
       "3  west lafayette\n",
       "4          bonham"
      ]
     },
     "execution_count": 32,
     "metadata": {},
     "output_type": "execute_result"
    }
   ],
   "source": [
    "# Create dataframe\n",
    "tor_h = pd.DataFrame(cities, columns=['Cities'])\n",
    "\n",
    "tor_h.head()"
   ]
  },
  {
   "cell_type": "code",
   "execution_count": 33,
   "metadata": {},
   "outputs": [
    {
     "data": {
      "text/plain": [
       "Cities    2142\n",
       "dtype: int64"
      ]
     },
     "execution_count": 33,
     "metadata": {},
     "output_type": "execute_result"
    }
   ],
   "source": [
    "# Calculate number of unique cities\n",
    "tor_h.nunique()"
   ]
  },
  {
   "cell_type": "code",
   "execution_count": 34,
   "metadata": {},
   "outputs": [
    {
     "data": {
      "text/html": [
       "<div>\n",
       "<style scoped>\n",
       "    .dataframe tbody tr th:only-of-type {\n",
       "        vertical-align: middle;\n",
       "    }\n",
       "\n",
       "    .dataframe tbody tr th {\n",
       "        vertical-align: top;\n",
       "    }\n",
       "\n",
       "    .dataframe thead th {\n",
       "        text-align: right;\n",
       "    }\n",
       "</style>\n",
       "<table border=\"1\" class=\"dataframe\">\n",
       "  <thead>\n",
       "    <tr style=\"text-align: right;\">\n",
       "      <th></th>\n",
       "      <th>Cities</th>\n",
       "      <th>Count</th>\n",
       "    </tr>\n",
       "  </thead>\n",
       "  <tbody>\n",
       "    <tr>\n",
       "      <th>0</th>\n",
       "      <td>Lamar</td>\n",
       "      <td>302</td>\n",
       "    </tr>\n",
       "    <tr>\n",
       "      <th>1</th>\n",
       "      <td>Garden City</td>\n",
       "      <td>291</td>\n",
       "    </tr>\n",
       "    <tr>\n",
       "      <th>2</th>\n",
       "      <td>Hays</td>\n",
       "      <td>269</td>\n",
       "    </tr>\n",
       "    <tr>\n",
       "      <th>3</th>\n",
       "      <td>Dodge City</td>\n",
       "      <td>267</td>\n",
       "    </tr>\n",
       "    <tr>\n",
       "      <th>4</th>\n",
       "      <td>Sterling</td>\n",
       "      <td>256</td>\n",
       "    </tr>\n",
       "  </tbody>\n",
       "</table>\n",
       "</div>"
      ],
      "text/plain": [
       "        Cities  Count\n",
       "0        Lamar    302\n",
       "1  Garden City    291\n",
       "2         Hays    269\n",
       "3   Dodge City    267\n",
       "4     Sterling    256"
      ]
     },
     "execution_count": 34,
     "metadata": {},
     "output_type": "execute_result"
    }
   ],
   "source": [
    "# Define dataframe with counts of each city\n",
    "tor_h = tor_h.Cities.value_counts().to_frame().reset_index()\n",
    "tor_h = tor_h.rename(columns={'Cities': 'Count', 'index': 'Cities'})\n",
    "tor_h['Cities'] = tor_h['Cities'].str.title()\n",
    "tor_h.head()"
   ]
  },
  {
   "cell_type": "code",
   "execution_count": 35,
   "metadata": {},
   "outputs": [
    {
     "data": {
      "text/html": [
       "<div>\n",
       "<style scoped>\n",
       "    .dataframe tbody tr th:only-of-type {\n",
       "        vertical-align: middle;\n",
       "    }\n",
       "\n",
       "    .dataframe tbody tr th {\n",
       "        vertical-align: top;\n",
       "    }\n",
       "\n",
       "    .dataframe thead th {\n",
       "        text-align: right;\n",
       "    }\n",
       "</style>\n",
       "<table border=\"1\" class=\"dataframe\">\n",
       "  <thead>\n",
       "    <tr style=\"text-align: right;\">\n",
       "      <th></th>\n",
       "      <th>Cities</th>\n",
       "      <th>Count</th>\n",
       "      <th>Lat</th>\n",
       "      <th>Lng</th>\n",
       "    </tr>\n",
       "  </thead>\n",
       "  <tbody>\n",
       "    <tr>\n",
       "      <th>0</th>\n",
       "      <td>Lamar</td>\n",
       "      <td>302</td>\n",
       "      <td></td>\n",
       "      <td></td>\n",
       "    </tr>\n",
       "    <tr>\n",
       "      <th>1</th>\n",
       "      <td>Garden City</td>\n",
       "      <td>291</td>\n",
       "      <td></td>\n",
       "      <td></td>\n",
       "    </tr>\n",
       "    <tr>\n",
       "      <th>2</th>\n",
       "      <td>Hays</td>\n",
       "      <td>269</td>\n",
       "      <td></td>\n",
       "      <td></td>\n",
       "    </tr>\n",
       "    <tr>\n",
       "      <th>3</th>\n",
       "      <td>Dodge City</td>\n",
       "      <td>267</td>\n",
       "      <td></td>\n",
       "      <td></td>\n",
       "    </tr>\n",
       "    <tr>\n",
       "      <th>4</th>\n",
       "      <td>Sterling</td>\n",
       "      <td>256</td>\n",
       "      <td></td>\n",
       "      <td></td>\n",
       "    </tr>\n",
       "  </tbody>\n",
       "</table>\n",
       "</div>"
      ],
      "text/plain": [
       "        Cities  Count Lat Lng\n",
       "0        Lamar    302        \n",
       "1  Garden City    291        \n",
       "2         Hays    269        \n",
       "3   Dodge City    267        \n",
       "4     Sterling    256        "
      ]
     },
     "execution_count": 35,
     "metadata": {},
     "output_type": "execute_result"
    }
   ],
   "source": [
    "# Add columns for lat, lng, \n",
    "tor_h['Lat'] = \"\"\n",
    "tor_h['Lng'] = \"\"\n",
    "\n",
    "tor_h.head()"
   ]
  },
  {
   "cell_type": "code",
   "execution_count": 36,
   "metadata": {},
   "outputs": [
    {
     "name": "stdout",
     "output_type": "stream",
     "text": [
      "<class 'pandas.core.frame.DataFrame'>\n",
      "RangeIndex: 2142 entries, 0 to 2141\n",
      "Data columns (total 4 columns):\n",
      " #   Column  Non-Null Count  Dtype \n",
      "---  ------  --------------  ----- \n",
      " 0   Cities  2142 non-null   object\n",
      " 1   Count   2142 non-null   int64 \n",
      " 2   Lat     2142 non-null   object\n",
      " 3   Lng     2142 non-null   object\n",
      "dtypes: int64(1), object(3)\n",
      "memory usage: 67.1+ KB\n"
     ]
    }
   ],
   "source": [
    "tor_h.info()"
   ]
  },
  {
   "cell_type": "markdown",
   "metadata": {},
   "source": [
    "**Get the coordinates for the cities in the dataframe tor_h. They will be used for plotting heatmap.**\n",
    "\n",
    "We will run the following cell only if needed. It retrieves coordintes for more than 2000 cities and it takes some time.\n",
    "\n",
    "The ouput will be saved in the .csv file and read it afterwards.\n",
    "\n",
    "Uncomment lines only if there is need to run it again."
   ]
  },
  {
   "cell_type": "code",
   "execution_count": 37,
   "metadata": {
    "scrolled": true
   },
   "outputs": [],
   "source": [
    "# # create a params dict that will be updated with new city each iteration\n",
    "# params = {'key': gkey}\n",
    "# base_url = 'https://maps.googleapis.com/maps/api/geocode/json?'\n",
    "\n",
    "# # Loop through tor_h and get latitude and longitude for each city\n",
    "# for index, row in tor_h.iterrows():\n",
    "    \n",
    "#     city = row['Cities']\n",
    "#     # print(f\"Processing Record {index} | {city}\")\n",
    "#     # update address key value\n",
    "#     params['address'] = f\"{city}\"\n",
    "    \n",
    "#     # make request\n",
    "#     cities_rq = requests.get(base_url, params).json()\n",
    "    \n",
    "#     try:\n",
    "#         tor_h.loc[index, 'Lat'] = cities_rq['results'][0]['geometry']['location']['lat']\n",
    "#         tor_h.loc[index, 'Lng'] = cities_rq['results'][0]['geometry']['location']['lng']\n",
    "#     except (KeyError, IndexError):\n",
    "#         print(f'City {city} not found. Skipping...')\n",
    "#         tor_h.drop(index, inplace=True)\n",
    "\n",
    "#  # Visualize to confirm lat lng appear\n",
    "# tor_h.head()      "
   ]
  },
  {
   "cell_type": "markdown",
   "metadata": {},
   "source": [
    "To avoid frequent use of API for more than 2000 records, we will save the dataframe to the .csv file and read it in subseqent runs of the notebook."
   ]
  },
  {
   "cell_type": "code",
   "execution_count": 38,
   "metadata": {},
   "outputs": [
    {
     "data": {
      "text/html": [
       "<div>\n",
       "<style scoped>\n",
       "    .dataframe tbody tr th:only-of-type {\n",
       "        vertical-align: middle;\n",
       "    }\n",
       "\n",
       "    .dataframe tbody tr th {\n",
       "        vertical-align: top;\n",
       "    }\n",
       "\n",
       "    .dataframe thead th {\n",
       "        text-align: right;\n",
       "    }\n",
       "</style>\n",
       "<table border=\"1\" class=\"dataframe\">\n",
       "  <thead>\n",
       "    <tr style=\"text-align: right;\">\n",
       "      <th></th>\n",
       "      <th>Cities</th>\n",
       "      <th>Count</th>\n",
       "      <th>Lat</th>\n",
       "      <th>Lng</th>\n",
       "    </tr>\n",
       "  </thead>\n",
       "  <tbody>\n",
       "    <tr>\n",
       "      <th>0</th>\n",
       "      <td>Lamar</td>\n",
       "      <td>302</td>\n",
       "      <td>30.039905</td>\n",
       "      <td>-94.075575</td>\n",
       "    </tr>\n",
       "    <tr>\n",
       "      <th>1</th>\n",
       "      <td>Garden City</td>\n",
       "      <td>291</td>\n",
       "      <td>37.971690</td>\n",
       "      <td>-100.872662</td>\n",
       "    </tr>\n",
       "    <tr>\n",
       "      <th>2</th>\n",
       "      <td>Hays</td>\n",
       "      <td>269</td>\n",
       "      <td>38.879178</td>\n",
       "      <td>-99.326770</td>\n",
       "    </tr>\n",
       "    <tr>\n",
       "      <th>3</th>\n",
       "      <td>Dodge City</td>\n",
       "      <td>267</td>\n",
       "      <td>37.752798</td>\n",
       "      <td>-100.017079</td>\n",
       "    </tr>\n",
       "    <tr>\n",
       "      <th>4</th>\n",
       "      <td>Sterling</td>\n",
       "      <td>256</td>\n",
       "      <td>42.437416</td>\n",
       "      <td>-71.760629</td>\n",
       "    </tr>\n",
       "  </tbody>\n",
       "</table>\n",
       "</div>"
      ],
      "text/plain": [
       "        Cities  Count        Lat         Lng\n",
       "0        Lamar    302  30.039905  -94.075575\n",
       "1  Garden City    291  37.971690 -100.872662\n",
       "2         Hays    269  38.879178  -99.326770\n",
       "3   Dodge City    267  37.752798 -100.017079\n",
       "4     Sterling    256  42.437416  -71.760629"
      ]
     },
     "execution_count": 38,
     "metadata": {},
     "output_type": "execute_result"
    }
   ],
   "source": [
    "# # Save dataframe to csv file\n",
    "# tor_h.to_csv('./Outputs/Tornado_heatmap_cities.csv', index=False)\n",
    "\n",
    "# Read .csv file to dataframe\n",
    "tor_h = pd.read_csv('./Outputs/Tornado_heatmap_cities.csv')\n",
    "tor_h.head()"
   ]
  },
  {
   "cell_type": "code",
   "execution_count": 39,
   "metadata": {},
   "outputs": [
    {
     "name": "stdout",
     "output_type": "stream",
     "text": [
      "<class 'pandas.core.frame.DataFrame'>\n",
      "RangeIndex: 2142 entries, 0 to 2141\n",
      "Data columns (total 4 columns):\n",
      " #   Column  Non-Null Count  Dtype  \n",
      "---  ------  --------------  -----  \n",
      " 0   Cities  2142 non-null   object \n",
      " 1   Count   2142 non-null   int64  \n",
      " 2   Lat     2142 non-null   float64\n",
      " 3   Lng     2142 non-null   float64\n",
      "dtypes: float64(2), int64(1), object(1)\n",
      "memory usage: 67.1+ KB\n"
     ]
    }
   ],
   "source": [
    "tor_h.info()"
   ]
  },
  {
   "cell_type": "code",
   "execution_count": 40,
   "metadata": {},
   "outputs": [
    {
     "data": {
      "text/plain": [
       "Cities     object\n",
       "Count       int64\n",
       "Lat       float64\n",
       "Lng       float64\n",
       "dtype: object"
      ]
     },
     "execution_count": 40,
     "metadata": {},
     "output_type": "execute_result"
    }
   ],
   "source": [
    "# Convert object to float for Lat and Lng  \n",
    "tor_h.Lat= tor_h.Lat.astype(float)\n",
    "tor_h.Lng= tor_h.Lng.astype(float)\n",
    "tor_h.dtypes"
   ]
  },
  {
   "cell_type": "code",
   "execution_count": 41,
   "metadata": {},
   "outputs": [],
   "source": [
    "# Store latitude and longitude in locations\n",
    "locations = tor_h[['Lat','Lng']]\n",
    "\n",
    "# Use count as weights\n",
    "counts = tor_h['Count']"
   ]
  },
  {
   "cell_type": "code",
   "execution_count": 42,
   "metadata": {},
   "outputs": [
    {
     "data": {
      "application/vnd.jupyter.widget-view+json": {
       "model_id": "6d3391dab7cd4a9c9323ba1b6d6a24cd",
       "version_major": 2,
       "version_minor": 0
      },
      "text/plain": [
       "Figure(layout=FigureLayout(height='420px'))"
      ]
     },
     "metadata": {},
     "output_type": "display_data"
    }
   ],
   "source": [
    "# Plot Heatmap\n",
    "fig = gmaps.figure(center=(39, -98), zoom_level=4)\n",
    "\n",
    "# Create heat layer\n",
    "tornado_heat_layer = gmaps.heatmap_layer(locations,\n",
    "                                 weights=counts,\n",
    "                                 dissipating=False,\n",
    "                                 max_intensity=300,\n",
    "                                 point_radius=1.7)\n",
    "# Add layer\n",
    "fig.add_layer(tornado_heat_layer)\n",
    "\n",
    "# Display figure\n",
    "fig"
   ]
  },
  {
   "cell_type": "markdown",
   "metadata": {},
   "source": [
    "Tornado heatmap nicely corresponds to the choropleth maps above."
   ]
  },
  {
   "cell_type": "markdown",
   "metadata": {},
   "source": [
    "### Seasonality of Tornadoes"
   ]
  },
  {
   "cell_type": "markdown",
   "metadata": {},
   "source": [
    "**Average number of tornadoes for each month**\n",
    "\n",
    "We are going to create a dataframe with months as indexes and average number of tornadoes per months as a column."
   ]
  },
  {
   "cell_type": "code",
   "execution_count": 43,
   "metadata": {},
   "outputs": [
    {
     "data": {
      "text/html": [
       "<div>\n",
       "<style scoped>\n",
       "    .dataframe tbody tr th:only-of-type {\n",
       "        vertical-align: middle;\n",
       "    }\n",
       "\n",
       "    .dataframe tbody tr th {\n",
       "        vertical-align: top;\n",
       "    }\n",
       "\n",
       "    .dataframe thead th {\n",
       "        text-align: right;\n",
       "    }\n",
       "</style>\n",
       "<table border=\"1\" class=\"dataframe\">\n",
       "  <thead>\n",
       "    <tr style=\"text-align: right;\">\n",
       "      <th></th>\n",
       "      <th>Tornadoes</th>\n",
       "    </tr>\n",
       "    <tr>\n",
       "      <th>Months</th>\n",
       "      <th></th>\n",
       "    </tr>\n",
       "  </thead>\n",
       "  <tbody>\n",
       "    <tr>\n",
       "      <th>January</th>\n",
       "      <td>47.0</td>\n",
       "    </tr>\n",
       "    <tr>\n",
       "      <th>February</th>\n",
       "      <td>48.0</td>\n",
       "    </tr>\n",
       "    <tr>\n",
       "      <th>March</th>\n",
       "      <td>95.0</td>\n",
       "    </tr>\n",
       "    <tr>\n",
       "      <th>April</th>\n",
       "      <td>221.0</td>\n",
       "    </tr>\n",
       "    <tr>\n",
       "      <th>May</th>\n",
       "      <td>304.0</td>\n",
       "    </tr>\n",
       "    <tr>\n",
       "      <th>June</th>\n",
       "      <td>215.0</td>\n",
       "    </tr>\n",
       "    <tr>\n",
       "      <th>July</th>\n",
       "      <td>115.0</td>\n",
       "    </tr>\n",
       "    <tr>\n",
       "      <th>August</th>\n",
       "      <td>82.0</td>\n",
       "    </tr>\n",
       "    <tr>\n",
       "      <th>September</th>\n",
       "      <td>76.0</td>\n",
       "    </tr>\n",
       "    <tr>\n",
       "      <th>October</th>\n",
       "      <td>69.0</td>\n",
       "    </tr>\n",
       "    <tr>\n",
       "      <th>November</th>\n",
       "      <td>65.0</td>\n",
       "    </tr>\n",
       "    <tr>\n",
       "      <th>December</th>\n",
       "      <td>36.0</td>\n",
       "    </tr>\n",
       "  </tbody>\n",
       "</table>\n",
       "</div>"
      ],
      "text/plain": [
       "           Tornadoes\n",
       "Months              \n",
       "January         47.0\n",
       "February        48.0\n",
       "March           95.0\n",
       "April          221.0\n",
       "May            304.0\n",
       "June           215.0\n",
       "July           115.0\n",
       "August          82.0\n",
       "September       76.0\n",
       "October         69.0\n",
       "November        65.0\n",
       "December        36.0"
      ]
     },
     "execution_count": 43,
     "metadata": {},
     "output_type": "execute_result"
    }
   ],
   "source": [
    "# Create series with average annual number of tornadoes, converted to dataframe and reset index\n",
    "tor_months = round(df_tor.MONTH_NAME.value_counts() / nyears, 0).to_frame().reset_index()\n",
    "\n",
    "# Rename both columns\n",
    "tor_months = tor_months.rename(columns={'MONTH_NAME': 'Tornadoes', 'index': 'Months'})\n",
    "\n",
    "# Convert column Months to category object, define custom order of categories\n",
    "tor_months.Months = pd.Categorical(tor_months.Months, ['January', 'February', 'March', 'April', 'May',\n",
    "                                                 'June', 'July', 'August', 'September', 'October', 'November', 'December'])\n",
    "\n",
    "# Sort dataframe per months and set Months as index for plotting\n",
    "tor_months= tor_months.sort_values('Months').set_index('Months')\n",
    "\n",
    "tor_months"
   ]
  },
  {
   "cell_type": "markdown",
   "metadata": {},
   "source": [
    "**Total number of fatalities for each month**\n",
    "\n",
    "We are going to create a dataframe with months as indexes and total number of fatalities per months as a column."
   ]
  },
  {
   "cell_type": "code",
   "execution_count": 44,
   "metadata": {},
   "outputs": [
    {
     "data": {
      "text/html": [
       "<div>\n",
       "<style scoped>\n",
       "    .dataframe tbody tr th:only-of-type {\n",
       "        vertical-align: middle;\n",
       "    }\n",
       "\n",
       "    .dataframe tbody tr th {\n",
       "        vertical-align: top;\n",
       "    }\n",
       "\n",
       "    .dataframe thead th {\n",
       "        text-align: right;\n",
       "    }\n",
       "</style>\n",
       "<table border=\"1\" class=\"dataframe\">\n",
       "  <thead>\n",
       "    <tr style=\"text-align: right;\">\n",
       "      <th></th>\n",
       "      <th>Deaths</th>\n",
       "    </tr>\n",
       "    <tr>\n",
       "      <th>Months</th>\n",
       "      <th></th>\n",
       "    </tr>\n",
       "  </thead>\n",
       "  <tbody>\n",
       "    <tr>\n",
       "      <th>January</th>\n",
       "      <td>60</td>\n",
       "    </tr>\n",
       "    <tr>\n",
       "      <th>February</th>\n",
       "      <td>199</td>\n",
       "    </tr>\n",
       "    <tr>\n",
       "      <th>March</th>\n",
       "      <td>178</td>\n",
       "    </tr>\n",
       "    <tr>\n",
       "      <th>April</th>\n",
       "      <td>608</td>\n",
       "    </tr>\n",
       "    <tr>\n",
       "      <th>May</th>\n",
       "      <td>467</td>\n",
       "    </tr>\n",
       "    <tr>\n",
       "      <th>June</th>\n",
       "      <td>45</td>\n",
       "    </tr>\n",
       "    <tr>\n",
       "      <th>July</th>\n",
       "      <td>16</td>\n",
       "    </tr>\n",
       "    <tr>\n",
       "      <th>August</th>\n",
       "      <td>15</td>\n",
       "    </tr>\n",
       "    <tr>\n",
       "      <th>September</th>\n",
       "      <td>23</td>\n",
       "    </tr>\n",
       "    <tr>\n",
       "      <th>October</th>\n",
       "      <td>20</td>\n",
       "    </tr>\n",
       "    <tr>\n",
       "      <th>November</th>\n",
       "      <td>123</td>\n",
       "    </tr>\n",
       "    <tr>\n",
       "      <th>December</th>\n",
       "      <td>66</td>\n",
       "    </tr>\n",
       "  </tbody>\n",
       "</table>\n",
       "</div>"
      ],
      "text/plain": [
       "           Deaths\n",
       "Months           \n",
       "January        60\n",
       "February      199\n",
       "March         178\n",
       "April         608\n",
       "May           467\n",
       "June           45\n",
       "July           16\n",
       "August         15\n",
       "September      23\n",
       "October        20\n",
       "November      123\n",
       "December       66"
      ]
     },
     "execution_count": 44,
     "metadata": {},
     "output_type": "execute_result"
    }
   ],
   "source": [
    "# Create series with total number of deaths, converted to dataframe and reset index\n",
    "death_months = round(df_tor.groupby('MONTH_NAME').DEATHS.sum(), 0).to_frame().reset_index()\n",
    "\n",
    "# Rename both columns\n",
    "death_months = death_months.rename(columns={'MONTH_NAME': 'Months', 'DEATHS': 'Deaths'})\n",
    "\n",
    "# Convert column Months to category object, define custom order of categories\n",
    "death_months.Months = pd.Categorical(death_months.Months, ['January', 'February', 'March', 'April', 'May',\n",
    "                                                  'June', 'July', 'August', 'September', 'October', 'November', 'December'])\n",
    "\n",
    "# Sort dataframe per months and set Months as index for plotting\n",
    "#death_months = death_months.sort_values('Months').set_index('Months')\n",
    "death_months = death_months.set_index('Months').sort_index()\n",
    "\n",
    "death_months"
   ]
  },
  {
   "cell_type": "code",
   "execution_count": 118,
   "metadata": {
    "scrolled": false
   },
   "outputs": [
    {
     "data": {
      "image/png": "[encoded data removed]",
      "text/plain": [
       "<Figure size 720x504 with 2 Axes>"
      ]
     },
     "metadata": {
      "needs_background": "light"
     },
     "output_type": "display_data"
    }
   ],
   "source": [
    "# Generate plot with 2 y-axes\n",
    "fig = plt.figure(figsize=(10, 7))\n",
    "ax = fig.add_subplot(111)\n",
    "ax.set_title('Average Number of Tornadoes & Total Fatalities\\n (1996 - 2019)', fontsize=13)\n",
    "\n",
    "\n",
    "y1_label = 'Average Number of Tornadoes'\n",
    "y2_label = 'Total Fatalities'\n",
    "\n",
    "tor_months.plot(kind='bar',\n",
    "                 color='orangered',\n",
    "                 alpha=0.8,\n",
    "                 rot=45,\n",
    "                 legend=False,\n",
    "                 width=0.7,\n",
    "                 ax=ax)                                       \n",
    "\n",
    "ax2 = ax.twinx()\n",
    "\n",
    "death_months.plot(kind='line',\n",
    "                color='blue',\n",
    "                 alpha=0.6,\n",
    "                 marker='o',\n",
    "                 linewidth=3,\n",
    "                 legend=False,\n",
    "                 ax=ax2) \n",
    "\n",
    "fig.legend(labels=('Tornadoes', 'Fatalities'), \n",
    "           loc=1, \n",
    "           bbox_to_anchor=(0.84, 0.86),\n",
    "           fancybox=True, \n",
    "           fontsize=12, \n",
    "           shadow=True)\n",
    "\n",
    "# set grid\n",
    "ax.set_axisbelow(True)\n",
    "ax.grid(alpha=0.7)\n",
    "\n",
    "ax.set_xlabel('Months', fontsize=12)\n",
    "\n",
    "# Make the y-axis label, ticks and tick labels match the line color.\n",
    "ax.set_ylabel(y1_label, color='r', fontsize=12)\n",
    "ax.tick_params('y', colors='r')\n",
    "ax2.set_ylabel(y2_label, color='b', fontsize=12)\n",
    "ax2.tick_params('y', colors='b')\n",
    "\n",
    "#plt.savefig('./Images/Seasonality of Tornadoes')\n",
    "plt.show()"
   ]
  },
  {
   "cell_type": "markdown",
   "metadata": {},
   "source": [
    "As we could expect, the above plot shows seasonal nature of tornadoes with April, May and June as months when tornadoes are most common. The number of fatalities is very similar in nature to tornado frequency."
   ]
  },
  {
   "cell_type": "markdown",
   "metadata": {},
   "source": [
    "## Tornadoes and Fatalities by Tornado Scales"
   ]
  },
  {
   "cell_type": "code",
   "execution_count": 46,
   "metadata": {},
   "outputs": [
    {
     "data": {
      "text/html": [
       "<div>\n",
       "<style scoped>\n",
       "    .dataframe tbody tr th:only-of-type {\n",
       "        vertical-align: middle;\n",
       "    }\n",
       "\n",
       "    .dataframe tbody tr th {\n",
       "        vertical-align: top;\n",
       "    }\n",
       "\n",
       "    .dataframe thead th {\n",
       "        text-align: right;\n",
       "    }\n",
       "</style>\n",
       "<table border=\"1\" class=\"dataframe\">\n",
       "  <thead>\n",
       "    <tr style=\"text-align: right;\">\n",
       "      <th></th>\n",
       "      <th>EVENT_ID</th>\n",
       "      <th>STATE</th>\n",
       "      <th>YEAR</th>\n",
       "      <th>MONTH_NAME</th>\n",
       "      <th>BEGIN_DATE_TIME</th>\n",
       "      <th>TOR_F_SCALE</th>\n",
       "      <th>BEGIN_LAT</th>\n",
       "      <th>BEGIN_LON</th>\n",
       "      <th>INJURIES</th>\n",
       "      <th>DEATHS</th>\n",
       "      <th>DAMAGE</th>\n",
       "    </tr>\n",
       "  </thead>\n",
       "  <tbody>\n",
       "    <tr>\n",
       "      <th>0</th>\n",
       "      <td>5539021</td>\n",
       "      <td>MISSOURI</td>\n",
       "      <td>1996</td>\n",
       "      <td>January</td>\n",
       "      <td>18-JAN-96 08:05:00</td>\n",
       "      <td>F1</td>\n",
       "      <td>36.18</td>\n",
       "      <td>-89.87</td>\n",
       "      <td>0</td>\n",
       "      <td>0</td>\n",
       "      <td>50000.0</td>\n",
       "    </tr>\n",
       "    <tr>\n",
       "      <th>1</th>\n",
       "      <td>5535520</td>\n",
       "      <td>ARKANSAS</td>\n",
       "      <td>1996</td>\n",
       "      <td>January</td>\n",
       "      <td>18-JAN-96 07:30:00</td>\n",
       "      <td>F1</td>\n",
       "      <td>34.55</td>\n",
       "      <td>-90.97</td>\n",
       "      <td>3</td>\n",
       "      <td>0</td>\n",
       "      <td>30000.0</td>\n",
       "    </tr>\n",
       "    <tr>\n",
       "      <th>2</th>\n",
       "      <td>5574627</td>\n",
       "      <td>LOUISIANA</td>\n",
       "      <td>1996</td>\n",
       "      <td>January</td>\n",
       "      <td>26-JAN-96 09:35:00</td>\n",
       "      <td>F1</td>\n",
       "      <td>30.57</td>\n",
       "      <td>-92.32</td>\n",
       "      <td>3</td>\n",
       "      <td>0</td>\n",
       "      <td>15000.0</td>\n",
       "    </tr>\n",
       "    <tr>\n",
       "      <th>3</th>\n",
       "      <td>5558382</td>\n",
       "      <td>INDIANA</td>\n",
       "      <td>1996</td>\n",
       "      <td>January</td>\n",
       "      <td>18-JAN-96 14:30:00</td>\n",
       "      <td>F0</td>\n",
       "      <td>40.50</td>\n",
       "      <td>-86.97</td>\n",
       "      <td>0</td>\n",
       "      <td>0</td>\n",
       "      <td>0.0</td>\n",
       "    </tr>\n",
       "    <tr>\n",
       "      <th>4</th>\n",
       "      <td>5535845</td>\n",
       "      <td>TEXAS</td>\n",
       "      <td>1996</td>\n",
       "      <td>January</td>\n",
       "      <td>17-JAN-96 21:55:00</td>\n",
       "      <td>F2</td>\n",
       "      <td>33.72</td>\n",
       "      <td>-96.15</td>\n",
       "      <td>5</td>\n",
       "      <td>0</td>\n",
       "      <td>150000.0</td>\n",
       "    </tr>\n",
       "  </tbody>\n",
       "</table>\n",
       "</div>"
      ],
      "text/plain": [
       "   EVENT_ID      STATE  YEAR MONTH_NAME     BEGIN_DATE_TIME TOR_F_SCALE  \\\n",
       "0   5539021   MISSOURI  1996    January  18-JAN-96 08:05:00          F1   \n",
       "1   5535520   ARKANSAS  1996    January  18-JAN-96 07:30:00          F1   \n",
       "2   5574627  LOUISIANA  1996    January  26-JAN-96 09:35:00          F1   \n",
       "3   5558382    INDIANA  1996    January  18-JAN-96 14:30:00          F0   \n",
       "4   5535845      TEXAS  1996    January  17-JAN-96 21:55:00          F2   \n",
       "\n",
       "   BEGIN_LAT  BEGIN_LON  INJURIES  DEATHS    DAMAGE  \n",
       "0      36.18     -89.87         0       0   50000.0  \n",
       "1      34.55     -90.97         3       0   30000.0  \n",
       "2      30.57     -92.32         3       0   15000.0  \n",
       "3      40.50     -86.97         0       0       0.0  \n",
       "4      33.72     -96.15         5       0  150000.0  "
      ]
     },
     "execution_count": 46,
     "metadata": {},
     "output_type": "execute_result"
    }
   ],
   "source": [
    "df_tor.head()"
   ]
  },
  {
   "cell_type": "code",
   "execution_count": 47,
   "metadata": {},
   "outputs": [
    {
     "data": {
      "text/plain": [
       "F0     9483\n",
       "EF0    9384\n",
       "EF1    6118\n",
       "F1     3955\n",
       "EF2    1726\n",
       "F2     1239\n",
       "EF3     492\n",
       "F3      402\n",
       "EF4     106\n",
       "F4       80\n",
       "EF5      14\n",
       "F5        7\n",
       "Name: TOR_F_SCALE, dtype: int64"
      ]
     },
     "execution_count": 47,
     "metadata": {},
     "output_type": "execute_result"
    }
   ],
   "source": [
    "df_tor.TOR_F_SCALE.value_counts()"
   ]
  },
  {
   "cell_type": "code",
   "execution_count": 48,
   "metadata": {},
   "outputs": [
    {
     "data": {
      "text/plain": [
       "TOR_F_SCALE\n",
       "EF0      5\n",
       "EF1     46\n",
       "EF2    139\n",
       "EF3    321\n",
       "EF4    344\n",
       "EF5    315\n",
       "F0       4\n",
       "F1      48\n",
       "F2     106\n",
       "F3     283\n",
       "F4     127\n",
       "F5      82\n",
       "Name: DEATHS, dtype: int64"
      ]
     },
     "execution_count": 48,
     "metadata": {},
     "output_type": "execute_result"
    }
   ],
   "source": [
    "df_tor.groupby('TOR_F_SCALE').DEATHS.sum()"
   ]
  },
  {
   "cell_type": "markdown",
   "metadata": {},
   "source": [
    "**Group FX and EFX scale into F/EFX for easier visualization**"
   ]
  },
  {
   "cell_type": "code",
   "execution_count": 248,
   "metadata": {},
   "outputs": [
    {
     "data": {
      "text/html": [
       "<div>\n",
       "<style scoped>\n",
       "    .dataframe tbody tr th:only-of-type {\n",
       "        vertical-align: middle;\n",
       "    }\n",
       "\n",
       "    .dataframe tbody tr th {\n",
       "        vertical-align: top;\n",
       "    }\n",
       "\n",
       "    .dataframe thead th {\n",
       "        text-align: right;\n",
       "    }\n",
       "</style>\n",
       "<table border=\"1\" class=\"dataframe\">\n",
       "  <thead>\n",
       "    <tr style=\"text-align: right;\">\n",
       "      <th></th>\n",
       "      <th>EVENT_ID</th>\n",
       "      <th>STATE</th>\n",
       "      <th>YEAR</th>\n",
       "      <th>MONTH_NAME</th>\n",
       "      <th>BEGIN_DATE_TIME</th>\n",
       "      <th>TOR_F_SCALE</th>\n",
       "      <th>BEGIN_LAT</th>\n",
       "      <th>BEGIN_LON</th>\n",
       "      <th>INJURIES</th>\n",
       "      <th>DEATHS</th>\n",
       "      <th>DAMAGE</th>\n",
       "    </tr>\n",
       "  </thead>\n",
       "  <tbody>\n",
       "    <tr>\n",
       "      <th>0</th>\n",
       "      <td>5539021</td>\n",
       "      <td>MISSOURI</td>\n",
       "      <td>1996</td>\n",
       "      <td>January</td>\n",
       "      <td>18-JAN-96 08:05:00</td>\n",
       "      <td>F/EF1</td>\n",
       "      <td>36.18</td>\n",
       "      <td>-89.87</td>\n",
       "      <td>0</td>\n",
       "      <td>0</td>\n",
       "      <td>50000.0</td>\n",
       "    </tr>\n",
       "    <tr>\n",
       "      <th>1</th>\n",
       "      <td>5535520</td>\n",
       "      <td>ARKANSAS</td>\n",
       "      <td>1996</td>\n",
       "      <td>January</td>\n",
       "      <td>18-JAN-96 07:30:00</td>\n",
       "      <td>F/EF1</td>\n",
       "      <td>34.55</td>\n",
       "      <td>-90.97</td>\n",
       "      <td>3</td>\n",
       "      <td>0</td>\n",
       "      <td>30000.0</td>\n",
       "    </tr>\n",
       "    <tr>\n",
       "      <th>2</th>\n",
       "      <td>5574627</td>\n",
       "      <td>LOUISIANA</td>\n",
       "      <td>1996</td>\n",
       "      <td>January</td>\n",
       "      <td>26-JAN-96 09:35:00</td>\n",
       "      <td>F/EF1</td>\n",
       "      <td>30.57</td>\n",
       "      <td>-92.32</td>\n",
       "      <td>3</td>\n",
       "      <td>0</td>\n",
       "      <td>15000.0</td>\n",
       "    </tr>\n",
       "    <tr>\n",
       "      <th>3</th>\n",
       "      <td>5558382</td>\n",
       "      <td>INDIANA</td>\n",
       "      <td>1996</td>\n",
       "      <td>January</td>\n",
       "      <td>18-JAN-96 14:30:00</td>\n",
       "      <td>F/EF0</td>\n",
       "      <td>40.50</td>\n",
       "      <td>-86.97</td>\n",
       "      <td>0</td>\n",
       "      <td>0</td>\n",
       "      <td>0.0</td>\n",
       "    </tr>\n",
       "    <tr>\n",
       "      <th>4</th>\n",
       "      <td>5535845</td>\n",
       "      <td>TEXAS</td>\n",
       "      <td>1996</td>\n",
       "      <td>January</td>\n",
       "      <td>17-JAN-96 21:55:00</td>\n",
       "      <td>F/EF2</td>\n",
       "      <td>33.72</td>\n",
       "      <td>-96.15</td>\n",
       "      <td>5</td>\n",
       "      <td>0</td>\n",
       "      <td>150000.0</td>\n",
       "    </tr>\n",
       "  </tbody>\n",
       "</table>\n",
       "</div>"
      ],
      "text/plain": [
       "   EVENT_ID      STATE  YEAR MONTH_NAME     BEGIN_DATE_TIME TOR_F_SCALE  \\\n",
       "0   5539021   MISSOURI  1996    January  18-JAN-96 08:05:00       F/EF1   \n",
       "1   5535520   ARKANSAS  1996    January  18-JAN-96 07:30:00       F/EF1   \n",
       "2   5574627  LOUISIANA  1996    January  26-JAN-96 09:35:00       F/EF1   \n",
       "3   5558382    INDIANA  1996    January  18-JAN-96 14:30:00       F/EF0   \n",
       "4   5535845      TEXAS  1996    January  17-JAN-96 21:55:00       F/EF2   \n",
       "\n",
       "   BEGIN_LAT  BEGIN_LON  INJURIES  DEATHS    DAMAGE  \n",
       "0      36.18     -89.87         0       0   50000.0  \n",
       "1      34.55     -90.97         3       0   30000.0  \n",
       "2      30.57     -92.32         3       0   15000.0  \n",
       "3      40.50     -86.97         0       0       0.0  \n",
       "4      33.72     -96.15         5       0  150000.0  "
      ]
     },
     "execution_count": 248,
     "metadata": {},
     "output_type": "execute_result"
    }
   ],
   "source": [
    "# Create dataframe copy\n",
    "ef012345 = df_tor.copy()\n",
    "\n",
    "# Group FX and EFX scale into F/EFX for easier visualization\n",
    "flist = ['F0', 'F1', 'F2', 'F3', 'F4', 'F5']\n",
    "for f in flist:\n",
    "    in1 = f\n",
    "    in2 = f\"E{f}\"\n",
    "    out = f\"F/E{f}\"\n",
    "    ef012345 = ef012345.replace({'TOR_F_SCALE': [in1, in2]}, out)\n",
    "    \n",
    "ef012345.head()"
   ]
  },
  {
   "cell_type": "code",
   "execution_count": 249,
   "metadata": {},
   "outputs": [
    {
     "data": {
      "text/plain": [
       "TOR_F_SCALE\n",
       "F/EF0      9\n",
       "F/EF1     94\n",
       "F/EF2    245\n",
       "F/EF3    604\n",
       "F/EF4    471\n",
       "F/EF5    397\n",
       "Name: DEATHS, dtype: int64"
      ]
     },
     "execution_count": 249,
     "metadata": {},
     "output_type": "execute_result"
    }
   ],
   "source": [
    "# Calculate number of fatalities per tornado scale\n",
    "ef012345_deaths = ef012345.groupby('TOR_F_SCALE').DEATHS.sum()\n",
    "\n",
    "ef012345_deaths"
   ]
  },
  {
   "cell_type": "code",
   "execution_count": 250,
   "metadata": {},
   "outputs": [
    {
     "data": {
      "text/plain": [
       "F/EF0    18867\n",
       "F/EF1    10073\n",
       "F/EF2     2965\n",
       "F/EF3      894\n",
       "F/EF4      186\n",
       "F/EF5       21\n",
       "Name: TOR_F_SCALE, dtype: int64"
      ]
     },
     "execution_count": 250,
     "metadata": {},
     "output_type": "execute_result"
    }
   ],
   "source": [
    "# Calculate number of tornadoes by tornado scale\n",
    "ef012345_count = ef012345.TOR_F_SCALE.value_counts()\n",
    "\n",
    "ef012345_count"
   ]
  },
  {
   "cell_type": "code",
   "execution_count": 251,
   "metadata": {},
   "outputs": [
    {
     "data": {
      "text/plain": [
       "TOR_F_SCALE\n",
       "F/EF0     373\n",
       "F/EF1    2252\n",
       "F/EF2    5132\n",
       "F/EF3    8055\n",
       "F/EF4    6770\n",
       "F/EF5    2361\n",
       "Name: INJURIES, dtype: int64"
      ]
     },
     "execution_count": 251,
     "metadata": {},
     "output_type": "execute_result"
    }
   ],
   "source": [
    "# Calculate number of injuries per tornado scale\n",
    "ef012345_injuries = ef012345.groupby('TOR_F_SCALE').INJURIES.sum()\n",
    "\n",
    "ef012345_injuries"
   ]
  },
  {
   "cell_type": "code",
   "execution_count": 252,
   "metadata": {},
   "outputs": [
    {
     "data": {
      "text/plain": [
       "TOR_F_SCALE\n",
       "F/EF0      436804.82\n",
       "F/EF1     3371042.10\n",
       "F/EF2     6456014.40\n",
       "F/EF3    10058666.75\n",
       "F/EF4     9132572.00\n",
       "F/EF5     6205705.00\n",
       "Name: DAMAGE, dtype: float64"
      ]
     },
     "execution_count": 252,
     "metadata": {},
     "output_type": "execute_result"
    }
   ],
   "source": [
    "# Calculate damage per tornado scale\n",
    "ef012345_damage = round(ef012345.groupby('TOR_F_SCALE').DAMAGE.sum() / 1e3, 2)\n",
    "\n",
    "ef012345_damage"
   ]
  },
  {
   "cell_type": "code",
   "execution_count": 253,
   "metadata": {},
   "outputs": [
    {
     "data": {
      "text/html": [
       "<div>\n",
       "<style scoped>\n",
       "    .dataframe tbody tr th:only-of-type {\n",
       "        vertical-align: middle;\n",
       "    }\n",
       "\n",
       "    .dataframe tbody tr th {\n",
       "        vertical-align: top;\n",
       "    }\n",
       "\n",
       "    .dataframe thead th {\n",
       "        text-align: right;\n",
       "    }\n",
       "</style>\n",
       "<table border=\"1\" class=\"dataframe\">\n",
       "  <thead>\n",
       "    <tr style=\"text-align: right;\">\n",
       "      <th></th>\n",
       "      <th>TOR_F_SCALE</th>\n",
       "      <th>Count</th>\n",
       "      <th>Deaths</th>\n",
       "      <th>Injuries</th>\n",
       "      <th>Damage</th>\n",
       "    </tr>\n",
       "  </thead>\n",
       "  <tbody>\n",
       "    <tr>\n",
       "      <th>0</th>\n",
       "      <td>F/EF0</td>\n",
       "      <td>18867</td>\n",
       "      <td>9</td>\n",
       "      <td>373</td>\n",
       "      <td>436804.82</td>\n",
       "    </tr>\n",
       "    <tr>\n",
       "      <th>1</th>\n",
       "      <td>F/EF1</td>\n",
       "      <td>10073</td>\n",
       "      <td>94</td>\n",
       "      <td>2252</td>\n",
       "      <td>3371042.10</td>\n",
       "    </tr>\n",
       "    <tr>\n",
       "      <th>2</th>\n",
       "      <td>F/EF2</td>\n",
       "      <td>2965</td>\n",
       "      <td>245</td>\n",
       "      <td>5132</td>\n",
       "      <td>6456014.40</td>\n",
       "    </tr>\n",
       "    <tr>\n",
       "      <th>3</th>\n",
       "      <td>F/EF3</td>\n",
       "      <td>894</td>\n",
       "      <td>604</td>\n",
       "      <td>8055</td>\n",
       "      <td>10058666.75</td>\n",
       "    </tr>\n",
       "    <tr>\n",
       "      <th>4</th>\n",
       "      <td>F/EF4</td>\n",
       "      <td>186</td>\n",
       "      <td>471</td>\n",
       "      <td>6770</td>\n",
       "      <td>9132572.00</td>\n",
       "    </tr>\n",
       "    <tr>\n",
       "      <th>5</th>\n",
       "      <td>F/EF5</td>\n",
       "      <td>21</td>\n",
       "      <td>397</td>\n",
       "      <td>2361</td>\n",
       "      <td>6205705.00</td>\n",
       "    </tr>\n",
       "  </tbody>\n",
       "</table>\n",
       "</div>"
      ],
      "text/plain": [
       "  TOR_F_SCALE  Count  Deaths  Injuries       Damage\n",
       "0       F/EF0  18867       9       373    436804.82\n",
       "1       F/EF1  10073      94      2252   3371042.10\n",
       "2       F/EF2   2965     245      5132   6456014.40\n",
       "3       F/EF3    894     604      8055  10058666.75\n",
       "4       F/EF4    186     471      6770   9132572.00\n",
       "5       F/EF5     21     397      2361   6205705.00"
      ]
     },
     "execution_count": 253,
     "metadata": {},
     "output_type": "execute_result"
    }
   ],
   "source": [
    "# Join 4 series to one dataframe\n",
    "ef012345_df = pd.concat([ef012345_count, ef012345_deaths, \n",
    "                         ef012345_injuries, ef012345_damage], axis=1)\n",
    "# Rename columns\n",
    "ef012345_df = ef012345_df.rename(columns={'TOR_F_SCALE': 'Count', \n",
    "                                          'DEATHS': 'Deaths', \n",
    "                                          'INJURIES': 'Injuries', \n",
    "                                          'DAMAGE': 'Damage'})\n",
    "# Reset index\n",
    "ef012345_df.reset_index(inplace=True)\n",
    "ef012345_df"
   ]
  },
  {
   "cell_type": "code",
   "execution_count": 254,
   "metadata": {
    "scrolled": true
   },
   "outputs": [
    {
     "data": {
      "text/html": [
       "<div>\n",
       "<style scoped>\n",
       "    .dataframe tbody tr th:only-of-type {\n",
       "        vertical-align: middle;\n",
       "    }\n",
       "\n",
       "    .dataframe tbody tr th {\n",
       "        vertical-align: top;\n",
       "    }\n",
       "\n",
       "    .dataframe thead th {\n",
       "        text-align: right;\n",
       "    }\n",
       "</style>\n",
       "<table border=\"1\" class=\"dataframe\">\n",
       "  <thead>\n",
       "    <tr style=\"text-align: right;\">\n",
       "      <th></th>\n",
       "      <th>TOR_F_SCALE</th>\n",
       "      <th>Count</th>\n",
       "      <th>Deaths</th>\n",
       "      <th>Injuries</th>\n",
       "      <th>Damage</th>\n",
       "      <th>Deaths per Tornado</th>\n",
       "      <th>Injuries per Tornado</th>\n",
       "      <th>Damage per Tornado</th>\n",
       "    </tr>\n",
       "  </thead>\n",
       "  <tbody>\n",
       "    <tr>\n",
       "      <th>0</th>\n",
       "      <td>F/EF0</td>\n",
       "      <td>18867</td>\n",
       "      <td>9</td>\n",
       "      <td>373</td>\n",
       "      <td>436.80</td>\n",
       "      <td>0.0005</td>\n",
       "      <td>0.02</td>\n",
       "      <td>23.15</td>\n",
       "    </tr>\n",
       "    <tr>\n",
       "      <th>1</th>\n",
       "      <td>F/EF1</td>\n",
       "      <td>10073</td>\n",
       "      <td>94</td>\n",
       "      <td>2252</td>\n",
       "      <td>3371.04</td>\n",
       "      <td>0.0093</td>\n",
       "      <td>0.22</td>\n",
       "      <td>334.66</td>\n",
       "    </tr>\n",
       "    <tr>\n",
       "      <th>2</th>\n",
       "      <td>F/EF2</td>\n",
       "      <td>2965</td>\n",
       "      <td>245</td>\n",
       "      <td>5132</td>\n",
       "      <td>6456.01</td>\n",
       "      <td>0.0826</td>\n",
       "      <td>1.73</td>\n",
       "      <td>2177.41</td>\n",
       "    </tr>\n",
       "    <tr>\n",
       "      <th>3</th>\n",
       "      <td>F/EF3</td>\n",
       "      <td>894</td>\n",
       "      <td>604</td>\n",
       "      <td>8055</td>\n",
       "      <td>10058.67</td>\n",
       "      <td>0.6756</td>\n",
       "      <td>9.01</td>\n",
       "      <td>11251.31</td>\n",
       "    </tr>\n",
       "    <tr>\n",
       "      <th>4</th>\n",
       "      <td>F/EF4</td>\n",
       "      <td>186</td>\n",
       "      <td>471</td>\n",
       "      <td>6770</td>\n",
       "      <td>9132.57</td>\n",
       "      <td>2.5323</td>\n",
       "      <td>36.40</td>\n",
       "      <td>49099.85</td>\n",
       "    </tr>\n",
       "    <tr>\n",
       "      <th>5</th>\n",
       "      <td>F/EF5</td>\n",
       "      <td>21</td>\n",
       "      <td>397</td>\n",
       "      <td>2361</td>\n",
       "      <td>6205.70</td>\n",
       "      <td>18.9048</td>\n",
       "      <td>112.43</td>\n",
       "      <td>295509.76</td>\n",
       "    </tr>\n",
       "  </tbody>\n",
       "</table>\n",
       "</div>"
      ],
      "text/plain": [
       "  TOR_F_SCALE  Count  Deaths  Injuries    Damage  Deaths per Tornado  \\\n",
       "0       F/EF0  18867       9       373    436.80              0.0005   \n",
       "1       F/EF1  10073      94      2252   3371.04              0.0093   \n",
       "2       F/EF2   2965     245      5132   6456.01              0.0826   \n",
       "3       F/EF3    894     604      8055  10058.67              0.6756   \n",
       "4       F/EF4    186     471      6770   9132.57              2.5323   \n",
       "5       F/EF5     21     397      2361   6205.70             18.9048   \n",
       "\n",
       "   Injuries per Tornado  Damage per Tornado  \n",
       "0                  0.02               23.15  \n",
       "1                  0.22              334.66  \n",
       "2                  1.73             2177.41  \n",
       "3                  9.01            11251.31  \n",
       "4                 36.40            49099.85  \n",
       "5                112.43           295509.76  "
      ]
     },
     "execution_count": 254,
     "metadata": {},
     "output_type": "execute_result"
    }
   ],
   "source": [
    "# Create new columns 'Deaths per Tornado', Injuries per Tornado' and 'Damage per Tornado'\n",
    "ef012345_df['Deaths per Tornado'] = round(ef012345_df['Deaths'] / ef012345_df['Count'], 4)\n",
    "ef012345_df['Injuries per Tornado'] = round(ef012345_df['Injuries'] / ef012345_df['Count'], 2)\n",
    "ef012345_df['Damage per Tornado'] = round(ef012345_df['Damage'] / ef012345_df['Count'], 2)\n",
    "\n",
    "ef012345_df['Damage'] = round(ef012345_df['Damage'] / 1e3, 2)\n",
    "\n",
    "ef012345_df"
   ]
  },
  {
   "cell_type": "code",
   "execution_count": 264,
   "metadata": {},
   "outputs": [
    {
     "data": {
      "image/png": "[encoded data removed]",
      "text/plain": [
       "<Figure size 864x432 with 1 Axes>"
      ]
     },
     "metadata": {
      "needs_background": "light"
     },
     "output_type": "display_data"
    }
   ],
   "source": [
    "# Generate bar plot\n",
    "fig, ax = plt.subplots(figsize=(12, 6))\n",
    "ef012345_df.plot('TOR_F_SCALE', \n",
    "                 ['Count', 'Deaths', 'Injuries', 'Damage'], \n",
    "                 kind='bar', \n",
    "                 logy=True, \n",
    "                 alpha=1,\n",
    "                 rot=0,\n",
    "                 legend=True,\n",
    "                 width=0.8,\n",
    "                 edgecolor='w',\n",
    "                 ax=ax)                                       \n",
    "\n",
    "# Set textual properties\n",
    "plt.title('Tornado Count, Fatalities, Injuries and Damage ($M) vs. E/EF Scale \\n(1996 - 2019)')\n",
    "plt.xlabel('Tornado E/EF Scale')\n",
    "#plt.ylabel('Tornado Count, Fatalities, Injuries, Damage (log10)')\n",
    "\n",
    "plt.legend(('Count', 'Fatalities', 'Injuries', 'Damage ($M)'), \n",
    "           fancybox=True, shadow=True, framealpha=0.9, loc=(0.245, 0.77), title='log10 Scale')\n",
    "\n",
    "# set grid for y axis\n",
    "ax.set_axisbelow(True)\n",
    "ax.grid(axis='y', alpha=0.8)\n",
    "\n",
    "#plt.savefig('./Images/Tornado Count & Measurements of Impact vs. E&EF Scale.png')\n",
    "\n",
    "plt.show()"
   ]
  },
  {
   "cell_type": "markdown",
   "metadata": {},
   "source": [
    "Our data are spread over a wide range of values so it will be easier to read the chart if we use a logarithmic scale for y-axis. \n",
    "\n",
    "It is obvious that smaller number of higher scale tornadoes causes much more fatalities than huge number of lower scale tornadoes. Similar behavior is seen for injuries and damage related to tornadoes."
   ]
  },
  {
   "cell_type": "markdown",
   "metadata": {},
   "source": [
    "## Tornadoes by Year and Tornado F/EF Scale"
   ]
  },
  {
   "cell_type": "markdown",
   "metadata": {},
   "source": [
    "Let's display total number of tornadoes per year stacked with tornado F/EF scale."
   ]
  },
  {
   "cell_type": "code",
   "execution_count": 55,
   "metadata": {},
   "outputs": [
    {
     "name": "stdout",
     "output_type": "stream",
     "text": [
      "(127, 2)\n"
     ]
    },
    {
     "data": {
      "text/html": [
       "<div>\n",
       "<style scoped>\n",
       "    .dataframe tbody tr th:only-of-type {\n",
       "        vertical-align: middle;\n",
       "    }\n",
       "\n",
       "    .dataframe tbody tr th {\n",
       "        vertical-align: top;\n",
       "    }\n",
       "\n",
       "    .dataframe thead th {\n",
       "        text-align: right;\n",
       "    }\n",
       "</style>\n",
       "<table border=\"1\" class=\"dataframe\">\n",
       "  <thead>\n",
       "    <tr style=\"text-align: right;\">\n",
       "      <th></th>\n",
       "      <th>TOR_F_SCALE</th>\n",
       "      <th>Count</th>\n",
       "    </tr>\n",
       "    <tr>\n",
       "      <th>YEAR</th>\n",
       "      <th></th>\n",
       "      <th></th>\n",
       "    </tr>\n",
       "  </thead>\n",
       "  <tbody>\n",
       "    <tr>\n",
       "      <th>1996</th>\n",
       "      <td>F/EF0</td>\n",
       "      <td>794</td>\n",
       "    </tr>\n",
       "    <tr>\n",
       "      <th>1996</th>\n",
       "      <td>F/EF1</td>\n",
       "      <td>341</td>\n",
       "    </tr>\n",
       "    <tr>\n",
       "      <th>1996</th>\n",
       "      <td>F/EF2</td>\n",
       "      <td>102</td>\n",
       "    </tr>\n",
       "    <tr>\n",
       "      <th>1996</th>\n",
       "      <td>F/EF3</td>\n",
       "      <td>26</td>\n",
       "    </tr>\n",
       "    <tr>\n",
       "      <th>1996</th>\n",
       "      <td>F/EF4</td>\n",
       "      <td>3</td>\n",
       "    </tr>\n",
       "  </tbody>\n",
       "</table>\n",
       "</div>"
      ],
      "text/plain": [
       "     TOR_F_SCALE  Count\n",
       "YEAR                   \n",
       "1996       F/EF0    794\n",
       "1996       F/EF1    341\n",
       "1996       F/EF2    102\n",
       "1996       F/EF3     26\n",
       "1996       F/EF4      3"
      ]
     },
     "execution_count": 55,
     "metadata": {},
     "output_type": "execute_result"
    }
   ],
   "source": [
    "# Gruop by year and scale and count number of tornadoes per scale\n",
    "scale_year = ef012345.groupby(['YEAR', 'TOR_F_SCALE']).TOR_F_SCALE.count().to_frame()\n",
    "# Rename column\n",
    "scale_year = scale_year.rename(columns={'TOR_F_SCALE': 'Count'})\n",
    "# Reset index by moving TOR_F_SCALE to columns\n",
    "scale_year = scale_year.reset_index(level='TOR_F_SCALE')\n",
    "\n",
    "print(scale_year.shape)\n",
    "scale_year.head()"
   ]
  },
  {
   "cell_type": "code",
   "execution_count": 56,
   "metadata": {},
   "outputs": [
    {
     "data": {
      "text/html": [
       "<div>\n",
       "<style scoped>\n",
       "    .dataframe tbody tr th:only-of-type {\n",
       "        vertical-align: middle;\n",
       "    }\n",
       "\n",
       "    .dataframe tbody tr th {\n",
       "        vertical-align: top;\n",
       "    }\n",
       "\n",
       "    .dataframe thead th {\n",
       "        text-align: right;\n",
       "    }\n",
       "</style>\n",
       "<table border=\"1\" class=\"dataframe\">\n",
       "  <thead>\n",
       "    <tr style=\"text-align: right;\">\n",
       "      <th>TOR_F_SCALE</th>\n",
       "      <th>F/EF0</th>\n",
       "      <th>F/EF1</th>\n",
       "      <th>F/EF2</th>\n",
       "      <th>F/EF3</th>\n",
       "      <th>F/EF4</th>\n",
       "      <th>F/EF5</th>\n",
       "    </tr>\n",
       "    <tr>\n",
       "      <th>YEAR</th>\n",
       "      <th></th>\n",
       "      <th></th>\n",
       "      <th></th>\n",
       "      <th></th>\n",
       "      <th></th>\n",
       "      <th></th>\n",
       "    </tr>\n",
       "  </thead>\n",
       "  <tbody>\n",
       "    <tr>\n",
       "      <th>1996</th>\n",
       "      <td>794.0</td>\n",
       "      <td>341.0</td>\n",
       "      <td>102.0</td>\n",
       "      <td>26.0</td>\n",
       "      <td>3.0</td>\n",
       "      <td>1.0</td>\n",
       "    </tr>\n",
       "    <tr>\n",
       "      <th>1997</th>\n",
       "      <td>756.0</td>\n",
       "      <td>294.0</td>\n",
       "      <td>89.0</td>\n",
       "      <td>31.0</td>\n",
       "      <td>9.0</td>\n",
       "      <td>1.0</td>\n",
       "    </tr>\n",
       "    <tr>\n",
       "      <th>1998</th>\n",
       "      <td>914.0</td>\n",
       "      <td>416.0</td>\n",
       "      <td>137.0</td>\n",
       "      <td>48.0</td>\n",
       "      <td>11.0</td>\n",
       "      <td>3.0</td>\n",
       "    </tr>\n",
       "    <tr>\n",
       "      <th>1999</th>\n",
       "      <td>888.0</td>\n",
       "      <td>381.0</td>\n",
       "      <td>164.0</td>\n",
       "      <td>69.0</td>\n",
       "      <td>16.0</td>\n",
       "      <td>2.0</td>\n",
       "    </tr>\n",
       "    <tr>\n",
       "      <th>2000</th>\n",
       "      <td>763.0</td>\n",
       "      <td>293.0</td>\n",
       "      <td>83.0</td>\n",
       "      <td>27.0</td>\n",
       "      <td>3.0</td>\n",
       "      <td>0.0</td>\n",
       "    </tr>\n",
       "  </tbody>\n",
       "</table>\n",
       "</div>"
      ],
      "text/plain": [
       "TOR_F_SCALE  F/EF0  F/EF1  F/EF2  F/EF3  F/EF4  F/EF5\n",
       "YEAR                                                 \n",
       "1996         794.0  341.0  102.0   26.0    3.0    1.0\n",
       "1997         756.0  294.0   89.0   31.0    9.0    1.0\n",
       "1998         914.0  416.0  137.0   48.0   11.0    3.0\n",
       "1999         888.0  381.0  164.0   69.0   16.0    2.0\n",
       "2000         763.0  293.0   83.0   27.0    3.0    0.0"
      ]
     },
     "execution_count": 56,
     "metadata": {},
     "output_type": "execute_result"
    }
   ],
   "source": [
    "# Use pivot_table to reorganize dataframe \n",
    "sy_pivot = scale_year.pivot_table(index='YEAR', columns='TOR_F_SCALE', values='Count')\n",
    "# Fill NaNs with 0\n",
    "sy_pivot.fillna(0, inplace=True)\n",
    "\n",
    "sy_pivot.head()"
   ]
  },
  {
   "cell_type": "code",
   "execution_count": 236,
   "metadata": {
    "scrolled": false
   },
   "outputs": [
    {
     "data": {
      "image/png": "[encoded data removed]",
      "text/plain": [
       "<Figure size 864x504 with 1 Axes>"
      ]
     },
     "metadata": {
      "needs_background": "light"
     },
     "output_type": "display_data"
    }
   ],
   "source": [
    "# Generate bar plot\n",
    "fig, ax = plt.subplots(figsize=(12, 7))\n",
    "sy_pivot.plot(kind='bar', \n",
    "              stacked=True,\n",
    "              logy=False, \n",
    "              alpha=1,\n",
    "              rot=90,\n",
    "              legend=True,\n",
    "              width=0.7,\n",
    "              ax=ax)                                       \n",
    "\n",
    "# Set textual properties\n",
    "plt.title('Tornadoes by Year and F/EF Scale\\n(1996 - 2019)')\n",
    "plt.xlabel('Year')\n",
    "plt.ylabel('Tornadoes by Scale')\n",
    "\n",
    "plt.legend(title='Tornado F/EF Scale', fancybox=True, shadow=True, loc=(0.69, 0.7))\n",
    "\n",
    "# set grid for y axis\n",
    "ax.set_axisbelow(True)\n",
    "ax.grid(axis='y', alpha=0.8)\n",
    "\n",
    "#plt.savefig('./Images/Tornadoes by Year and E-EF Scale.png')\n",
    "\n",
    "plt.show()"
   ]
  },
  {
   "cell_type": "markdown",
   "metadata": {},
   "source": [
    "There are two years, 2004 and 2008, with almost 2000 tornadoes. The most tornadoes was recorded in 2011. Majority of tornadoes belong to F/EF0 and F/EF1 scale and then slghtly less in F/EF2."
   ]
  },
  {
   "cell_type": "markdown",
   "metadata": {},
   "source": [
    "Let's now use stacked area chart to display F/EF4 and F/EF5 tornades by year."
   ]
  },
  {
   "cell_type": "code",
   "execution_count": 58,
   "metadata": {},
   "outputs": [
    {
     "data": {
      "image/png": "[encoded data removed]",
      "text/plain": [
       "<Figure size 864x504 with 1 Axes>"
      ]
     },
     "metadata": {
      "needs_background": "light"
     },
     "output_type": "display_data"
    }
   ],
   "source": [
    "# Generate bar plot\n",
    "fig, ax = plt.subplots(figsize=(12, 7))\n",
    "colors = ['#9467bd', '#8c564b']\n",
    "sy_pivot.iloc[:, 4:6].plot(kind='area', \n",
    "                          stacked=True,\n",
    "                          logy=False,\n",
    "                          color=colors,\n",
    "                          alpha=1,\n",
    "                          rot=0,\n",
    "                          legend=True,\n",
    "                          ax=ax)                                       \n",
    "\n",
    "# Set textual properties\n",
    "plt.title('F/EF4 and F/EF5 Tornadoes by Year\\n(1996 - 2019)')\n",
    "plt.xlabel('Year')\n",
    "plt.ylabel('Tornadoes by Scale')\n",
    "\n",
    "plt.legend(title='Tornado F/EF Scale', fancybox=True, shadow=True)\n",
    "\n",
    "# set grid for y axis\n",
    "ax.set_axisbelow(True)\n",
    "ax.grid(axis='both', alpha=0.8)\n",
    "\n",
    "#plt.savefig('./Images/F-EF4 and F-EF5 Tornadoes by Year.png')\n",
    "\n",
    "plt.show()"
   ]
  },
  {
   "cell_type": "markdown",
   "metadata": {},
   "source": [
    "There is a peak of tornado frequency for both scales in 2011."
   ]
  },
  {
   "cell_type": "code",
   "execution_count": null,
   "metadata": {},
   "outputs": [],
   "source": []
  },
  {
   "cell_type": "markdown",
   "metadata": {},
   "source": [
    "# EF and F Scale Analysis\n",
    "    Storm Rating Frequency"
   ]
  },
  {
   "cell_type": "markdown",
   "metadata": {},
   "source": [
    "The EF and F Scale are assigned to tornados to establish a \"rating\". This is based on estimated wind speed and damage associated with the storm. Damage Indicators (DIs) and Degrees of Damage (DoD) are considered to estimate the range of wind speeds the tornado likely produced. \n",
    "\n",
    "The EF Scale was revised from the original Fujita Scale (in 2007) to reflect better examinations of tornado damage surveys so as to align wind speeds more closely with associated storm damage. The new scale reflects how most structures are designed.\n",
    "(from https://www.weather.gov/oun/efscale)\n"
   ]
  },
  {
   "cell_type": "code",
   "execution_count": 59,
   "metadata": {},
   "outputs": [
    {
     "data": {
      "text/html": [
       "<div>\n",
       "<style scoped>\n",
       "    .dataframe tbody tr th:only-of-type {\n",
       "        vertical-align: middle;\n",
       "    }\n",
       "\n",
       "    .dataframe tbody tr th {\n",
       "        vertical-align: top;\n",
       "    }\n",
       "\n",
       "    .dataframe thead th {\n",
       "        text-align: right;\n",
       "    }\n",
       "</style>\n",
       "<table border=\"1\" class=\"dataframe\">\n",
       "  <thead>\n",
       "    <tr style=\"text-align: right;\">\n",
       "      <th></th>\n",
       "      <th>EVENT_ID</th>\n",
       "      <th>STATE</th>\n",
       "      <th>YEAR</th>\n",
       "      <th>MONTH_NAME</th>\n",
       "      <th>BEGIN_DATE_TIME</th>\n",
       "      <th>TOR_F_SCALE</th>\n",
       "      <th>BEGIN_LAT</th>\n",
       "      <th>BEGIN_LON</th>\n",
       "      <th>INJURIES</th>\n",
       "      <th>DEATHS</th>\n",
       "      <th>DAMAGE</th>\n",
       "    </tr>\n",
       "  </thead>\n",
       "  <tbody>\n",
       "    <tr>\n",
       "      <th>0</th>\n",
       "      <td>5539021</td>\n",
       "      <td>MISSOURI</td>\n",
       "      <td>1996</td>\n",
       "      <td>January</td>\n",
       "      <td>18-JAN-96 08:05:00</td>\n",
       "      <td>EF1</td>\n",
       "      <td>36.1800</td>\n",
       "      <td>-89.8700</td>\n",
       "      <td>0</td>\n",
       "      <td>0</td>\n",
       "      <td>50000.0</td>\n",
       "    </tr>\n",
       "    <tr>\n",
       "      <th>1</th>\n",
       "      <td>5535520</td>\n",
       "      <td>ARKANSAS</td>\n",
       "      <td>1996</td>\n",
       "      <td>January</td>\n",
       "      <td>18-JAN-96 07:30:00</td>\n",
       "      <td>EF1</td>\n",
       "      <td>34.5500</td>\n",
       "      <td>-90.9700</td>\n",
       "      <td>3</td>\n",
       "      <td>0</td>\n",
       "      <td>30000.0</td>\n",
       "    </tr>\n",
       "    <tr>\n",
       "      <th>2</th>\n",
       "      <td>5574627</td>\n",
       "      <td>LOUISIANA</td>\n",
       "      <td>1996</td>\n",
       "      <td>January</td>\n",
       "      <td>26-JAN-96 09:35:00</td>\n",
       "      <td>EF1</td>\n",
       "      <td>30.5700</td>\n",
       "      <td>-92.3200</td>\n",
       "      <td>3</td>\n",
       "      <td>0</td>\n",
       "      <td>15000.0</td>\n",
       "    </tr>\n",
       "    <tr>\n",
       "      <th>3</th>\n",
       "      <td>5558382</td>\n",
       "      <td>INDIANA</td>\n",
       "      <td>1996</td>\n",
       "      <td>January</td>\n",
       "      <td>18-JAN-96 14:30:00</td>\n",
       "      <td>EF0</td>\n",
       "      <td>40.5000</td>\n",
       "      <td>-86.9700</td>\n",
       "      <td>0</td>\n",
       "      <td>0</td>\n",
       "      <td>0.0</td>\n",
       "    </tr>\n",
       "    <tr>\n",
       "      <th>4</th>\n",
       "      <td>5535845</td>\n",
       "      <td>TEXAS</td>\n",
       "      <td>1996</td>\n",
       "      <td>January</td>\n",
       "      <td>17-JAN-96 21:55:00</td>\n",
       "      <td>EF2</td>\n",
       "      <td>33.7200</td>\n",
       "      <td>-96.1500</td>\n",
       "      <td>5</td>\n",
       "      <td>0</td>\n",
       "      <td>150000.0</td>\n",
       "    </tr>\n",
       "    <tr>\n",
       "      <th>...</th>\n",
       "      <td>...</td>\n",
       "      <td>...</td>\n",
       "      <td>...</td>\n",
       "      <td>...</td>\n",
       "      <td>...</td>\n",
       "      <td>...</td>\n",
       "      <td>...</td>\n",
       "      <td>...</td>\n",
       "      <td>...</td>\n",
       "      <td>...</td>\n",
       "      <td>...</td>\n",
       "    </tr>\n",
       "    <tr>\n",
       "      <th>33001</th>\n",
       "      <td>857256</td>\n",
       "      <td>SOUTH DAKOTA</td>\n",
       "      <td>2019</td>\n",
       "      <td>September</td>\n",
       "      <td>09-SEP-19 14:37:00</td>\n",
       "      <td>EF0</td>\n",
       "      <td>44.8943</td>\n",
       "      <td>-97.2062</td>\n",
       "      <td>0</td>\n",
       "      <td>0</td>\n",
       "      <td>0.0</td>\n",
       "    </tr>\n",
       "    <tr>\n",
       "      <th>33002</th>\n",
       "      <td>857252</td>\n",
       "      <td>SOUTH DAKOTA</td>\n",
       "      <td>2019</td>\n",
       "      <td>September</td>\n",
       "      <td>09-SEP-19 14:39:00</td>\n",
       "      <td>EF0</td>\n",
       "      <td>44.7497</td>\n",
       "      <td>-97.2096</td>\n",
       "      <td>0</td>\n",
       "      <td>0</td>\n",
       "      <td>0.0</td>\n",
       "    </tr>\n",
       "    <tr>\n",
       "      <th>33003</th>\n",
       "      <td>857253</td>\n",
       "      <td>SOUTH DAKOTA</td>\n",
       "      <td>2019</td>\n",
       "      <td>September</td>\n",
       "      <td>09-SEP-19 17:55:00</td>\n",
       "      <td>EF0</td>\n",
       "      <td>45.3805</td>\n",
       "      <td>-97.5119</td>\n",
       "      <td>0</td>\n",
       "      <td>0</td>\n",
       "      <td>0.0</td>\n",
       "    </tr>\n",
       "    <tr>\n",
       "      <th>33004</th>\n",
       "      <td>857255</td>\n",
       "      <td>SOUTH DAKOTA</td>\n",
       "      <td>2019</td>\n",
       "      <td>September</td>\n",
       "      <td>09-SEP-19 19:14:00</td>\n",
       "      <td>EF0</td>\n",
       "      <td>45.4261</td>\n",
       "      <td>-97.6842</td>\n",
       "      <td>0</td>\n",
       "      <td>0</td>\n",
       "      <td>0.0</td>\n",
       "    </tr>\n",
       "    <tr>\n",
       "      <th>33005</th>\n",
       "      <td>828158</td>\n",
       "      <td>KANSAS</td>\n",
       "      <td>2019</td>\n",
       "      <td>May</td>\n",
       "      <td>22-MAY-19 19:05:00</td>\n",
       "      <td>EF1</td>\n",
       "      <td>37.1096</td>\n",
       "      <td>-94.6244</td>\n",
       "      <td>0</td>\n",
       "      <td>0</td>\n",
       "      <td>25000.0</td>\n",
       "    </tr>\n",
       "  </tbody>\n",
       "</table>\n",
       "<p>33006 rows × 11 columns</p>\n",
       "</div>"
      ],
      "text/plain": [
       "       EVENT_ID         STATE  YEAR MONTH_NAME     BEGIN_DATE_TIME  \\\n",
       "0       5539021      MISSOURI  1996    January  18-JAN-96 08:05:00   \n",
       "1       5535520      ARKANSAS  1996    January  18-JAN-96 07:30:00   \n",
       "2       5574627     LOUISIANA  1996    January  26-JAN-96 09:35:00   \n",
       "3       5558382       INDIANA  1996    January  18-JAN-96 14:30:00   \n",
       "4       5535845         TEXAS  1996    January  17-JAN-96 21:55:00   \n",
       "...         ...           ...   ...        ...                 ...   \n",
       "33001    857256  SOUTH DAKOTA  2019  September  09-SEP-19 14:37:00   \n",
       "33002    857252  SOUTH DAKOTA  2019  September  09-SEP-19 14:39:00   \n",
       "33003    857253  SOUTH DAKOTA  2019  September  09-SEP-19 17:55:00   \n",
       "33004    857255  SOUTH DAKOTA  2019  September  09-SEP-19 19:14:00   \n",
       "33005    828158        KANSAS  2019        May  22-MAY-19 19:05:00   \n",
       "\n",
       "      TOR_F_SCALE  BEGIN_LAT  BEGIN_LON  INJURIES  DEATHS    DAMAGE  \n",
       "0             EF1    36.1800   -89.8700         0       0   50000.0  \n",
       "1             EF1    34.5500   -90.9700         3       0   30000.0  \n",
       "2             EF1    30.5700   -92.3200         3       0   15000.0  \n",
       "3             EF0    40.5000   -86.9700         0       0       0.0  \n",
       "4             EF2    33.7200   -96.1500         5       0  150000.0  \n",
       "...           ...        ...        ...       ...     ...       ...  \n",
       "33001         EF0    44.8943   -97.2062         0       0       0.0  \n",
       "33002         EF0    44.7497   -97.2096         0       0       0.0  \n",
       "33003         EF0    45.3805   -97.5119         0       0       0.0  \n",
       "33004         EF0    45.4261   -97.6842         0       0       0.0  \n",
       "33005         EF1    37.1096   -94.6244         0       0   25000.0  \n",
       "\n",
       "[33006 rows x 11 columns]"
      ]
     },
     "execution_count": 59,
     "metadata": {},
     "output_type": "execute_result"
    }
   ],
   "source": [
    "# create df copy\n",
    "scale_df = df_tor.copy()\n",
    "\n",
    "# The data set has both the F scale and EF scale. To provide a full summary, the EF and F scale data was combined\n",
    "\n",
    "scale_df = scale_df.replace(\"F0\", \"EF0\")\n",
    "scale_df = scale_df.replace(\"F1\", \"EF1\")\n",
    "scale_df = scale_df.replace(\"F2\", \"EF2\")\n",
    "scale_df = scale_df.replace(\"F3\", \"EF3\")\n",
    "scale_df = scale_df.replace(\"F4\", \"EF4\")\n",
    "scale_df = scale_df.replace(\"F5\", \"EF5\")\n",
    "scale_df"
   ]
  },
  {
   "cell_type": "code",
   "execution_count": 60,
   "metadata": {},
   "outputs": [],
   "source": [
    "# Data is grouped by TOR_F_SCALE and then value counts are taken\n",
    "grouped_df = scale_df.groupby(\"TOR_F_SCALE\")\n",
    "type_amt = grouped_df[\"TOR_F_SCALE\"].value_counts()\n",
    "type_amt =pd.DataFrame(type_amt)\n",
    "type_amt = type_amt.rename(columns={\"TOR_F_SCALE\": \"INDEX\", \"TOR_F_SCALE\": \"STORM RATING\", \"TOR_F_SCALE\":\"COUNT\"})\n"
   ]
  },
  {
   "cell_type": "code",
   "execution_count": 69,
   "metadata": {},
   "outputs": [
    {
     "data": {
      "image/png": "[encoded data removed]",
      "text/plain": [
       "<Figure size 432x288 with 1 Axes>"
      ]
     },
     "metadata": {},
     "output_type": "display_data"
    }
   ],
   "source": [
    "# Once grouped and summed, the frequency of each rating can be shown with the pie chart below\n",
    "\n",
    "labels=('F0/EF0','F1/EF1', \"F2/EF2\",\"F3/EF3\", \"F4/EF4\", \"F5/EF5\")\n",
    "explode = (0, 0, 0, 0, .5,.5) \n",
    "type_amt.plot(y=\"COUNT\", kind=\"pie\", labels=[\" \",\" \",\" \",\" \",\" \",\" \"], figsize =(6,4), \n",
    "              pctdistance=1.25, label = \" \", radius=1, explode=explode, fontsize=18, \n",
    "              legend=True, startangle=135)\n",
    "plt.legend(title=\"Storm Scale\", labels=labels,\n",
    "            bbox_to_anchor=(1,0.5), loc=\"center right\", \n",
    "            fontsize=14, bbox_transform=plt.gcf().transFigure)\n",
    "plt.title(\"Frequency of Storm Rating Type\", fontsize=18)\n",
    "plt.ylabel(\" \")\n",
    "\n",
    "#plt.savefig('./Images/FrequencyPie.png')\n",
    "plt.show()"
   ]
  },
  {
   "cell_type": "markdown",
   "metadata": {},
   "source": [
    "The pie chart and summary table above shows how rare F5/EF5 tornados are during the 23 year span. Next we will explore the combined damage, injuries and deaths caused by each storm rating."
   ]
  },
  {
   "cell_type": "markdown",
   "metadata": {},
   "source": [
    "# EF and F Scale Analysis\n",
    "    Damage, Injuries and Death by Storm Rating"
   ]
  },
  {
   "cell_type": "code",
   "execution_count": 70,
   "metadata": {},
   "outputs": [],
   "source": [
    "# find sum of damages - convert to currency - CPI changes were not taken into account for year to year currency\n",
    "damages = grouped_df[\"DAMAGE\"].sum()\n",
    "damages1 = pd.DataFrame(damages)\n",
    "damages2 = pd.DataFrame(damages)\n",
    "damages2\n",
    "damages1['DAMAGE'] = damages1['DAMAGE'].apply(lambda x: \"${:,.2f}\".format((x/1000)))"
   ]
  },
  {
   "cell_type": "code",
   "execution_count": 71,
   "metadata": {},
   "outputs": [],
   "source": [
    "# find sum of injuries\n",
    "injuries = grouped_df[\"INJURIES\"].sum()\n",
    "injuries = pd.DataFrame(injuries)\n"
   ]
  },
  {
   "cell_type": "code",
   "execution_count": 72,
   "metadata": {},
   "outputs": [],
   "source": [
    "# find sum of deaths\n",
    "deaths = grouped_df[\"DEATHS\"].sum()\n",
    "deaths = pd.DataFrame(deaths)"
   ]
  },
  {
   "cell_type": "code",
   "execution_count": 73,
   "metadata": {},
   "outputs": [
    {
     "data": {
      "text/html": [
       "<div>\n",
       "<style scoped>\n",
       "    .dataframe tbody tr th:only-of-type {\n",
       "        vertical-align: middle;\n",
       "    }\n",
       "\n",
       "    .dataframe tbody tr th {\n",
       "        vertical-align: top;\n",
       "    }\n",
       "\n",
       "    .dataframe thead th {\n",
       "        text-align: right;\n",
       "    }\n",
       "</style>\n",
       "<table border=\"1\" class=\"dataframe\">\n",
       "  <thead>\n",
       "    <tr style=\"text-align: right;\">\n",
       "      <th></th>\n",
       "      <th>TOR_F_SCALE</th>\n",
       "      <th>DAMAGE</th>\n",
       "      <th>INJURIES</th>\n",
       "      <th>DEATHS</th>\n",
       "    </tr>\n",
       "  </thead>\n",
       "  <tbody>\n",
       "    <tr>\n",
       "      <th>0</th>\n",
       "      <td>EF0</td>\n",
       "      <td>$436,804.82</td>\n",
       "      <td>373</td>\n",
       "      <td>9</td>\n",
       "    </tr>\n",
       "    <tr>\n",
       "      <th>1</th>\n",
       "      <td>EF1</td>\n",
       "      <td>$3,371,042.10</td>\n",
       "      <td>2252</td>\n",
       "      <td>94</td>\n",
       "    </tr>\n",
       "    <tr>\n",
       "      <th>2</th>\n",
       "      <td>EF2</td>\n",
       "      <td>$6,456,014.40</td>\n",
       "      <td>5132</td>\n",
       "      <td>245</td>\n",
       "    </tr>\n",
       "    <tr>\n",
       "      <th>3</th>\n",
       "      <td>EF3</td>\n",
       "      <td>$10,058,666.75</td>\n",
       "      <td>8055</td>\n",
       "      <td>604</td>\n",
       "    </tr>\n",
       "    <tr>\n",
       "      <th>4</th>\n",
       "      <td>EF4</td>\n",
       "      <td>$9,132,572.00</td>\n",
       "      <td>6770</td>\n",
       "      <td>471</td>\n",
       "    </tr>\n",
       "    <tr>\n",
       "      <th>5</th>\n",
       "      <td>EF5</td>\n",
       "      <td>$6,205,705.00</td>\n",
       "      <td>2361</td>\n",
       "      <td>397</td>\n",
       "    </tr>\n",
       "  </tbody>\n",
       "</table>\n",
       "</div>"
      ],
      "text/plain": [
       "  TOR_F_SCALE          DAMAGE  INJURIES  DEATHS\n",
       "0         EF0     $436,804.82       373       9\n",
       "1         EF1   $3,371,042.10      2252      94\n",
       "2         EF2   $6,456,014.40      5132     245\n",
       "3         EF3  $10,058,666.75      8055     604\n",
       "4         EF4   $9,132,572.00      6770     471\n",
       "5         EF5   $6,205,705.00      2361     397"
      ]
     },
     "execution_count": 73,
     "metadata": {},
     "output_type": "execute_result"
    }
   ],
   "source": [
    "# create summary table\n",
    "scale_summary = pd.concat([damages1, injuries, deaths], axis=1)\n",
    "scale_summary.reset_index(inplace=True)\n",
    "scale_summary\n"
   ]
  },
  {
   "cell_type": "code",
   "execution_count": 76,
   "metadata": {},
   "outputs": [
    {
     "data": {
      "image/png": "[encoded data removed]",
      "text/plain": [
       "<Figure size 432x288 with 1 Axes>"
      ]
     },
     "metadata": {},
     "output_type": "display_data"
    },
    {
     "data": {
      "text/plain": [
       "<Figure size 432x288 with 0 Axes>"
      ]
     },
     "metadata": {},
     "output_type": "display_data"
    },
    {
     "data": {
      "image/png": "[encoded data removed]",
      "text/plain": [
       "<Figure size 432x288 with 1 Axes>"
      ]
     },
     "metadata": {},
     "output_type": "display_data"
    },
    {
     "data": {
      "image/png": "[encoded data removed]",
      "text/plain": [
       "<Figure size 432x288 with 1 Axes>"
      ]
     },
     "metadata": {},
     "output_type": "display_data"
    }
   ],
   "source": [
    "plt.figure(0)\n",
    "labels=('F0/EF0','F1/EF1', \"F2/EF2\",\"F3/EF3\", \"F4/EF4\", \"F5/EF5\")\n",
    "\n",
    "damages.plot(y=[\"DAMAGES\"], kind=\"pie\", labels=[\" \",\" \",\" \",\" \",\" \",\" \"], figsize =(6,4),\n",
    "              pctdistance=1.25, label = \" \", radius=1, legend=True, autopct='%1.1f%%',fontsize=18)\n",
    "plt.legend(title=\"Storm Scale\", labels=labels,\n",
    "            bbox_to_anchor=(1,0.5), loc=\"center right\", \n",
    "            fontsize=14, bbox_transform=plt.gcf().transFigure)\n",
    "plt.subplots_adjust(left=0.0, bottom=0.0, right=0.5)\n",
    "plt.title(\"Damage\", fontsize=18, pad=5)\n",
    "#plt.savefig('./Images/DamagesChart.png')\n",
    "\n",
    "plt.figure(1)\n",
    "injuries.plot(y=\"INJURIES\", kind=\"pie\", labels=[\" \",\" \",\" \",\" \",\" \",\" \"], figsize =(6,4),\n",
    "              pctdistance=1.25, label = \" \", radius=1, legend=None, autopct='%1.1f%%',fontsize=18)\n",
    "plt.subplots_adjust(left=0.0, bottom=0.0, right=0.5)\n",
    "plt.title(\"Injuries\", fontsize=18, pad=1.1)\n",
    "plt.ylabel(\" \")\n",
    "#plt.savefig('./Images/InjuriesChart.png')\n",
    "\n",
    "plt.figure(2)\n",
    "deaths.plot(y=\"DEATHS\", kind=\"pie\", labels=[\" \",\" \",\" \",\" \",\" \",\" \"], figsize =(6,4),\n",
    "              pctdistance=1.25, label = \" \", radius=1, legend=None,autopct='%1.1f%%',fontsize=18)\n",
    "plt.subplots_adjust(left=0.0, bottom=0.0, right=0.5)\n",
    "plt.title(\"Death\", fontsize=18, pad=1.1)\n",
    "plt.ylabel(\" \")\n",
    "\n",
    "#plt.savefig('./Images/DeathChart.png')\n",
    "plt.show()"
   ]
  },
  {
   "cell_type": "markdown",
   "metadata": {},
   "source": [
    "# EF and F Scale Analysis\n",
    "      EF5 and F5 Closer Look"
   ]
  },
  {
   "cell_type": "code",
   "execution_count": 77,
   "metadata": {},
   "outputs": [],
   "source": [
    "scale_index = df_tor.set_index(\"TOR_F_SCALE\")\n",
    "top_tor = scale_index.loc[[\"EF5\"]]"
   ]
  },
  {
   "cell_type": "code",
   "execution_count": 78,
   "metadata": {},
   "outputs": [
    {
     "data": {
      "application/vnd.jupyter.widget-view+json": {
       "model_id": "f813ab3a746b48c5a25c01dadd23a2e5",
       "version_major": 2,
       "version_minor": 0
      },
      "text/plain": [
       "Figure(layout=FigureLayout(height='420px'))"
      ]
     },
     "metadata": {},
     "output_type": "display_data"
    }
   ],
   "source": [
    "year_list = top_tor[\"YEAR\"].tolist()\n",
    "year_list = top_tor[\"YEAR\"].tolist()\n",
    "\n",
    "marker_locations = top_tor[['BEGIN_LAT', 'BEGIN_LON']]\n",
    "year = top_tor[\"YEAR\"]\n",
    "# Create a marker_layer using the year list to fill the info box \n",
    "fig = gmaps.figure()\n",
    "markers = gmaps.marker_layer(marker_locations, info_box_content=[f\"Year: {year}\" for year in year_list])\n",
    "\n",
    "fig.add_layer(markers)\n",
    "\n",
    "fig"
   ]
  },
  {
   "cell_type": "code",
   "execution_count": 79,
   "metadata": {},
   "outputs": [
    {
     "data": {
      "text/plain": [
       "Text(0.5, 1.0, 'EF5/F5 Storms per Year')"
      ]
     },
     "execution_count": 79,
     "metadata": {},
     "output_type": "execute_result"
    },
    {
     "data": {
      "image/png": "[encoded data removed]",
      "text/plain": [
       "<Figure size 432x288 with 1 Axes>"
      ]
     },
     "metadata": {
      "needs_background": "light"
     },
     "output_type": "display_data"
    }
   ],
   "source": [
    "scale_index = df_tor.set_index(\"TOR_F_SCALE\")\n",
    "top_tor = scale_index.loc[[\"EF5\"]]\n",
    "year_count = top_tor[\"YEAR\"].value_counts()\n",
    "year_count = pd.DataFrame(year_count)\n",
    "year_count.plot(kind=\"barh\", legend=False)\n",
    "plt.title(\"EF5/F5 Storms per Year\")\n"
   ]
  },
  {
   "cell_type": "code",
   "execution_count": 80,
   "metadata": {},
   "outputs": [
    {
     "data": {
      "text/plain": [
       "Text(0.5, 1.0, 'EF/F5 Storms per State')"
      ]
     },
     "execution_count": 80,
     "metadata": {},
     "output_type": "execute_result"
    },
    {
     "data": {
      "image/png": "[encoded data removed]",
      "text/plain": [
       "<Figure size 432x288 with 1 Axes>"
      ]
     },
     "metadata": {
      "needs_background": "light"
     },
     "output_type": "display_data"
    }
   ],
   "source": [
    "state_count = top_tor[\"STATE\"].value_counts()\n",
    "state_count = pd.DataFrame(state_count)\n",
    "state_count.plot(kind=\"barh\", legend=False)\n",
    "plt.title(\"EF/F5 Storms per State\")"
   ]
  },
  {
   "cell_type": "code",
   "execution_count": null,
   "metadata": {},
   "outputs": [],
   "source": []
  },
  {
   "cell_type": "code",
   "execution_count": null,
   "metadata": {},
   "outputs": [],
   "source": []
  },
  {
   "cell_type": "markdown",
   "metadata": {},
   "source": [
    "## Damage Stats By Year"
   ]
  },
  {
   "cell_type": "markdown",
   "metadata": {},
   "source": [
    "This takes the original data in dollars and adds a column for Millions and Billions."
   ]
  },
  {
   "cell_type": "code",
   "execution_count": 81,
   "metadata": {},
   "outputs": [],
   "source": [
    "torn1 = df_tor.groupby(['YEAR']).sum()"
   ]
  },
  {
   "cell_type": "code",
   "execution_count": 82,
   "metadata": {},
   "outputs": [],
   "source": [
    "torn = df_tor.groupby(['YEAR']).count()\n",
    "torn1['Event Count'] = torn['EVENT_ID']"
   ]
  },
  {
   "cell_type": "code",
   "execution_count": 83,
   "metadata": {},
   "outputs": [],
   "source": [
    "torn1['Damage_M'] = torn1['DAMAGE']/1000000\n",
    "torn1['Damage_B'] = torn1['DAMAGE']/1000000000"
   ]
  },
  {
   "cell_type": "code",
   "execution_count": 84,
   "metadata": {},
   "outputs": [],
   "source": [
    "torn2 = torn1.drop(['EVENT_ID','BEGIN_LAT','BEGIN_LON'], axis=1)\n",
    "torn2 = torn2.reset_index()\n",
    "\n",
    "years = torn2['YEAR']\n",
    "valuesM = torn2['Damage_M']\n",
    "valuesB = torn2['Damage_B']"
   ]
  },
  {
   "cell_type": "markdown",
   "metadata": {},
   "source": [
    "## Damage Stats By Year (Real 2019 Dollars)"
   ]
  },
  {
   "cell_type": "markdown",
   "metadata": {},
   "source": [
    "This takes the nominal dollars in each year and converts the damage amounts into inflation adjusted values represented by 2019 dollars."
   ]
  },
  {
   "cell_type": "code",
   "execution_count": 85,
   "metadata": {},
   "outputs": [
    {
     "data": {
      "text/html": [
       "<div>\n",
       "<style scoped>\n",
       "    .dataframe tbody tr th:only-of-type {\n",
       "        vertical-align: middle;\n",
       "    }\n",
       "\n",
       "    .dataframe tbody tr th {\n",
       "        vertical-align: top;\n",
       "    }\n",
       "\n",
       "    .dataframe thead th {\n",
       "        text-align: right;\n",
       "    }\n",
       "</style>\n",
       "<table border=\"1\" class=\"dataframe\">\n",
       "  <thead>\n",
       "    <tr style=\"text-align: right;\">\n",
       "      <th></th>\n",
       "      <th>YEAR</th>\n",
       "      <th>INJURIES</th>\n",
       "      <th>DEATHS</th>\n",
       "      <th>Event Count</th>\n",
       "      <th>Damage_M</th>\n",
       "      <th>Damage_B</th>\n",
       "      <th>Damage_M2019</th>\n",
       "      <th>Damage_B2019</th>\n",
       "    </tr>\n",
       "  </thead>\n",
       "  <tbody>\n",
       "    <tr>\n",
       "      <th>0</th>\n",
       "      <td>1996</td>\n",
       "      <td>705</td>\n",
       "      <td>26</td>\n",
       "      <td>1267</td>\n",
       "      <td>732.10175</td>\n",
       "      <td>0.732102</td>\n",
       "      <td>1192.905909</td>\n",
       "      <td>1.192906</td>\n",
       "    </tr>\n",
       "    <tr>\n",
       "      <th>1</th>\n",
       "      <td>1997</td>\n",
       "      <td>1033</td>\n",
       "      <td>68</td>\n",
       "      <td>1180</td>\n",
       "      <td>736.48685</td>\n",
       "      <td>0.736487</td>\n",
       "      <td>1173.134072</td>\n",
       "      <td>1.173134</td>\n",
       "    </tr>\n",
       "    <tr>\n",
       "      <th>2</th>\n",
       "      <td>1998</td>\n",
       "      <td>1874</td>\n",
       "      <td>130</td>\n",
       "      <td>1529</td>\n",
       "      <td>1738.10160</td>\n",
       "      <td>1.738102</td>\n",
       "      <td>2726.121722</td>\n",
       "      <td>2.726122</td>\n",
       "    </tr>\n",
       "    <tr>\n",
       "      <th>3</th>\n",
       "      <td>1999</td>\n",
       "      <td>1842</td>\n",
       "      <td>94</td>\n",
       "      <td>1520</td>\n",
       "      <td>1998.11245</td>\n",
       "      <td>1.998112</td>\n",
       "      <td>3066.215094</td>\n",
       "      <td>3.066215</td>\n",
       "    </tr>\n",
       "    <tr>\n",
       "      <th>4</th>\n",
       "      <td>2000</td>\n",
       "      <td>882</td>\n",
       "      <td>41</td>\n",
       "      <td>1169</td>\n",
       "      <td>430.54310</td>\n",
       "      <td>0.430543</td>\n",
       "      <td>639.206488</td>\n",
       "      <td>0.639206</td>\n",
       "    </tr>\n",
       "  </tbody>\n",
       "</table>\n",
       "</div>"
      ],
      "text/plain": [
       "   YEAR  INJURIES  DEATHS  Event Count    Damage_M  Damage_B  Damage_M2019  \\\n",
       "0  1996       705      26         1267   732.10175  0.732102   1192.905909   \n",
       "1  1997      1033      68         1180   736.48685  0.736487   1173.134072   \n",
       "2  1998      1874     130         1529  1738.10160  1.738102   2726.121722   \n",
       "3  1999      1842      94         1520  1998.11245  1.998112   3066.215094   \n",
       "4  2000       882      41         1169   430.54310  0.430543    639.206488   \n",
       "\n",
       "   Damage_B2019  \n",
       "0      1.192906  \n",
       "1      1.173134  \n",
       "2      2.726122  \n",
       "3      3.066215  \n",
       "4      0.639206  "
      ]
     },
     "execution_count": 85,
     "metadata": {},
     "output_type": "execute_result"
    }
   ],
   "source": [
    "damagesM = []\n",
    "damagesB = []\n",
    "\n",
    "for x in range(len(years)-1):\n",
    "    damagesM.append(cpi.inflate(valuesM[x], years[x], to=2019))\n",
    "    damagesB.append(cpi.inflate(valuesB[x], years[x], to=2019))\n",
    "\n",
    "damagesM.append(valuesM[23])\n",
    "damagesB.append(valuesB[23])\n",
    "torn2['Damage_M2019'] = damagesM\n",
    "torn2['Damage_B2019'] = damagesB\n",
    "\n",
    "torn2 = torn2.drop('DAMAGE', axis=1)\n",
    "torn2.head()"
   ]
  },
  {
   "cell_type": "markdown",
   "metadata": {},
   "source": [
    "### Damage Visualization 1"
   ]
  },
  {
   "cell_type": "markdown",
   "metadata": {},
   "source": [
    "The first visualization of damage estimates shows the number of tornado events in each year (represented by the height of each bubble on the x axis) and the damage in Millions (represent by the size of each bubble) and the number of deaths (represented by the color of each bubble)."
   ]
  },
  {
   "cell_type": "code",
   "execution_count": 86,
   "metadata": {},
   "outputs": [
    {
     "data": {
      "image/png": "[encoded data removed]",
      "text/plain": [
       "<Figure size 1008x504 with 2 Axes>"
      ]
     },
     "metadata": {
      "needs_background": "light"
     },
     "output_type": "display_data"
    }
   ],
   "source": [
    "fig = plt.figure(figsize=(14,7)) \n",
    "plt.suptitle('No. of Tornado Events by Year', fontsize=16)\n",
    "ax = fig.add_subplot(111)\n",
    "cm = plt.cm.get_cmap('jet')\n",
    "torn2.plot.scatter(x='YEAR', y='Event Count', s=torn2['Damage_M2019'],\n",
    "                c=torn2['DEATHS'], ax=ax, cmap=cm)\n",
    "ax.set(xlabel='Years', ylabel='No. of Tornado Events')\n",
    "ax.set_xticks(years)\n",
    "ax.set_xticklabels(years,rotation=90)\n",
    "\n",
    "plt.title('Size = Damage in Millions (Real 2019$) and Color = No. of Deaths', fontsize=14)\n",
    "plt.show()\n",
    "#fig.savefig(\"./Images/Tornado Frequency and Impacts by Year.png\")"
   ]
  },
  {
   "cell_type": "markdown",
   "metadata": {},
   "source": [
    "### Damage Visualization 2"
   ]
  },
  {
   "cell_type": "markdown",
   "metadata": {},
   "source": [
    "This data visualization shows each of the measurements of impact (Deaths, Injuries, and Damage) for each year and how they are similar.  "
   ]
  },
  {
   "cell_type": "code",
   "execution_count": 87,
   "metadata": {},
   "outputs": [
    {
     "data": {
      "image/png": "[encoded data removed]",
      "text/plain": [
       "<Figure size 720x504 with 2 Axes>"
      ]
     },
     "metadata": {
      "needs_background": "light"
     },
     "output_type": "display_data"
    }
   ],
   "source": [
    "years = torn2['YEAR']\n",
    "\n",
    "fig = plt.figure(figsize=(10,7))\n",
    "\n",
    "ax = fig.add_subplot()\n",
    "ax = torn2['DEATHS'].plot(kind='line', figsize=(10, 7), label='Deaths', color='red', marker='h', linestyle='dashdot')\n",
    "ax1 = torn2['INJURIES'].plot(kind='line', figsize=(10, 7), label='Injuries', color='blue', marker='h', linestyle='dashdot')\n",
    "\n",
    "ax2 = ax.twinx()\n",
    "ax2 = torn2['Damage_M2019'].plot(kind='line', figsize=(10, 7), color='green', \n",
    "                                 label='Damage 2019 $M', marker='h', linestyle='dashdot')\n",
    "\n",
    "ax.grid(which='major', axis='both')\n",
    "ax.set_title('Tornado \"Measurements of Impact\" by Year', fontsize=16)\n",
    "\n",
    "ax.set(xlabel='Years')\n",
    "ax.set_xticks(range(0,24,1))\n",
    "ax.set_xticklabels(years,rotation=90)\n",
    "\n",
    "ax.set_ylabel(ylabel='No. of Injuries and Deaths', color='r', fontsize=12)\n",
    "ax.tick_params('y', colors='r')\n",
    "ax2.set_ylabel(ylabel='Damage in 2019 $M', color='g', fontsize=12)\n",
    "ax2.tick_params('y', colors='g')\n",
    "\n",
    "fig.legend(loc=5, bbox_to_anchor=(0.4, 0.75), fontsize=12, shadow=True)\n",
    "\n",
    "plt.show()\n",
    "#fig.savefig(\"./Images/Tornado Impacts by Year.png\")"
   ]
  },
  {
   "cell_type": "markdown",
   "metadata": {},
   "source": [
    "## FEMA Data Import"
   ]
  },
  {
   "cell_type": "markdown",
   "metadata": {},
   "source": [
    "In an effort to find additional data to support the measurement of damage reported by the National Weather Service.  We also explored the Federal Emergency Management Agency (FEMA) and the various datasets they have available to report damage for specific disasters and programs that provide assistance in these types of emergencies."
   ]
  },
  {
   "cell_type": "markdown",
   "metadata": {},
   "source": [
    "https://www.fema.gov/data-sets\n",
    "\n",
    "https://www.fema.gov/openfema-dataset-public-assistance-funded-projects-details-v1"
   ]
  },
  {
   "cell_type": "markdown",
   "metadata": {},
   "source": [
    "Based off of our findings, we concentrated on the Public Assistance FEMA Program that provides direct assistance to individuals during natural disasters.  The following data represents only Declared Disaster events and the damage estimates for each type and incident.  Therefore, we can look at all FEMA public assistance and then divide it into only \"Tornado\" FEMA public assistance and compare how that looks against the National Weather Service damage estimates."
   ]
  },
  {
   "cell_type": "code",
   "execution_count": 88,
   "metadata": {},
   "outputs": [],
   "source": [
    "# Read the file and create dataframe\n",
    "df_fema = pd.read_csv('./Resources/PAFundedFEMAProjects.csv')"
   ]
  },
  {
   "cell_type": "code",
   "execution_count": 89,
   "metadata": {},
   "outputs": [],
   "source": [
    "df_fema1 = df_fema.drop(['declarationDate','applicationTitle','applicantId','dcc','damageCategory',\n",
    "                         'pwNumber','county','countyCode','stateCode','stateNumberCode','hash','lastRefresh','id'], axis=1)\n",
    "df_fema2 = df_fema1.rename(columns={'disasterNumber':'Disaster','incidentType':'Type','damageCategoryCode':'Damage Category',\n",
    "                                    'projectSize':'Project Size','state':'State','projectAmount':'Project Estimate',\n",
    "                                    'federalShareObligated':'FEMA Share','totalObligated':'Project Actual',\n",
    "                                    'obligatedDate':'Date'})\n",
    "df_fema2['Year'] = df_fema2['Date'].str[:4]"
   ]
  },
  {
   "cell_type": "code",
   "execution_count": 90,
   "metadata": {},
   "outputs": [],
   "source": [
    "fema4 = df_fema2.groupby(['Type']).sum()\n",
    "fema4['Estimate $M'] = fema4['Project Estimate']/1000000\n",
    "fema4['FEMA Share $M'] = fema4['FEMA Share']/1000000\n",
    "fema4['Actual $M'] = fema4['Project Actual']/1000000\n",
    "fema4 = fema4.drop(['Disaster'], axis=1)\n",
    "fema4 = fema4.loc[:,['Estimate $M','FEMA Share $M','Actual $M']]\n",
    "fema4 = fema4.reset_index()\n",
    "fema4['Actual $B'] = round(fema4['Actual $M']/1000,2)"
   ]
  },
  {
   "cell_type": "code",
   "execution_count": 91,
   "metadata": {},
   "outputs": [],
   "source": [
    "df_fema3 = df_fema2[df_fema['incidentType'] == \"Tornado\"]"
   ]
  },
  {
   "cell_type": "markdown",
   "metadata": {},
   "source": [
    "### Data Visualization 3 - ALL FEMA Public Assistance Data"
   ]
  },
  {
   "cell_type": "markdown",
   "metadata": {},
   "source": [
    "This data shows the amount of FEMA Public Assistance damage estimates based on types of natural disasters.  We can see that the most common type funded by FEMA during this period from 2000 - 2019 is for Hurricanes, but that other Servere Storm(s) are in second place with almost 14B over those 20 years.  Tornadoes are #11 on the list and they only accounted for 340M in damage public assistance from FEMA.  That is significantly lower than the damage estimates from the National Weather Service."
   ]
  },
  {
   "cell_type": "code",
   "execution_count": 92,
   "metadata": {},
   "outputs": [
    {
     "data": {
      "text/plain": [
       "<matplotlib.legend.Legend at 0x17ceda46788>"
      ]
     },
     "execution_count": 92,
     "metadata": {},
     "output_type": "execute_result"
    },
    {
     "data": {
      "image/png": "[encoded data removed]",
      "text/plain": [
       "<Figure size 504x504 with 1 Axes>"
      ]
     },
     "metadata": {},
     "output_type": "display_data"
    }
   ],
   "source": [
    "fema4_sorted = fema4.sort_values(['Actual $B'],ascending=False)\n",
    "index = range(1, len(fema4)+1)\n",
    "types = fema4_sorted['Type']\n",
    "explode = [0,.1,.1,.1,0,0,0,0,0,0,.5,0,0,0,0,0,0,0,0,0,0,0]\n",
    "values = fema4_sorted['Actual $B']\n",
    "\n",
    "fig = plt.figure(figsize=(7,7)) \n",
    "ax = fig.add_subplot(111)\n",
    "fema4_sorted['Actual $B'].plot(kind='pie', ax=ax, explode=explode, startangle=45, labels=values)\n",
    "plt.suptitle('FEMA Damage by Incident Type (2000-2019)', fontsize=16)\n",
    "ax.set_title('Actual $ in Billions', fontsize=14)\n",
    "\n",
    "ax.legend(types, loc='center', fontsize=11)\n",
    "#fig.savefig(\"./Images/FEMA Natural Disasters by Type.png\")"
   ]
  },
  {
   "cell_type": "markdown",
   "metadata": {},
   "source": [
    "## FEMA Data in Real $ for 2019"
   ]
  },
  {
   "cell_type": "markdown",
   "metadata": {},
   "source": [
    "Again, we take the nominal dollars in each year and convert the damage amounts into inflation adjusted values represented by 2019 dollars."
   ]
  },
  {
   "cell_type": "code",
   "execution_count": 93,
   "metadata": {},
   "outputs": [],
   "source": [
    "fema3 = df_fema3.groupby(['Year']).sum()\n",
    "fema3['Estimate $M'] = fema3['Project Estimate']/1000000\n",
    "fema3['FEMA Share $M'] = fema3['FEMA Share']/1000000\n",
    "fema3['Actual $M'] = fema3['Project Actual']/1000000\n",
    "fema3 = fema3.drop(['Disaster'], axis=1)\n",
    "fema3 = fema3.loc[:,['Estimate $M','FEMA Share $M','Actual $M']]\n",
    "fema3 = fema3.drop(['1999','2020'])\n",
    "fema3 = fema3.reset_index()"
   ]
  },
  {
   "cell_type": "code",
   "execution_count": 94,
   "metadata": {},
   "outputs": [],
   "source": [
    "years = fema3['Year']\n",
    "newyears = [int(years[x]) for x in range(len(years))]\n",
    "valuesM = fema3['Actual $M']"
   ]
  },
  {
   "cell_type": "code",
   "execution_count": 95,
   "metadata": {},
   "outputs": [
    {
     "data": {
      "text/html": [
       "<div>\n",
       "<style scoped>\n",
       "    .dataframe tbody tr th:only-of-type {\n",
       "        vertical-align: middle;\n",
       "    }\n",
       "\n",
       "    .dataframe tbody tr th {\n",
       "        vertical-align: top;\n",
       "    }\n",
       "\n",
       "    .dataframe thead th {\n",
       "        text-align: right;\n",
       "    }\n",
       "</style>\n",
       "<table border=\"1\" class=\"dataframe\">\n",
       "  <thead>\n",
       "    <tr style=\"text-align: right;\">\n",
       "      <th></th>\n",
       "      <th>Year</th>\n",
       "      <th>Estimate $M</th>\n",
       "      <th>FEMA Share $M</th>\n",
       "      <th>Actual $M</th>\n",
       "      <th>Actual $M 2019</th>\n",
       "    </tr>\n",
       "  </thead>\n",
       "  <tbody>\n",
       "    <tr>\n",
       "      <th>0</th>\n",
       "      <td>2000</td>\n",
       "      <td>10.860992</td>\n",
       "      <td>8.145022</td>\n",
       "      <td>8.448227</td>\n",
       "      <td>12.542674</td>\n",
       "    </tr>\n",
       "    <tr>\n",
       "      <th>1</th>\n",
       "      <td>2001</td>\n",
       "      <td>2.697911</td>\n",
       "      <td>1.818004</td>\n",
       "      <td>1.905184</td>\n",
       "      <td>2.750274</td>\n",
       "    </tr>\n",
       "    <tr>\n",
       "      <th>2</th>\n",
       "      <td>2002</td>\n",
       "      <td>20.813817</td>\n",
       "      <td>15.513554</td>\n",
       "      <td>16.197987</td>\n",
       "      <td>23.019059</td>\n",
       "    </tr>\n",
       "    <tr>\n",
       "      <th>3</th>\n",
       "      <td>2003</td>\n",
       "      <td>15.861656</td>\n",
       "      <td>11.869809</td>\n",
       "      <td>12.337311</td>\n",
       "      <td>17.141956</td>\n",
       "    </tr>\n",
       "    <tr>\n",
       "      <th>4</th>\n",
       "      <td>2004</td>\n",
       "      <td>1.744502</td>\n",
       "      <td>1.308377</td>\n",
       "      <td>1.350654</td>\n",
       "      <td>1.827974</td>\n",
       "    </tr>\n",
       "  </tbody>\n",
       "</table>\n",
       "</div>"
      ],
      "text/plain": [
       "   Year  Estimate $M  FEMA Share $M  Actual $M  Actual $M 2019\n",
       "0  2000    10.860992       8.145022   8.448227       12.542674\n",
       "1  2001     2.697911       1.818004   1.905184        2.750274\n",
       "2  2002    20.813817      15.513554  16.197987       23.019059\n",
       "3  2003    15.861656      11.869809  12.337311       17.141956\n",
       "4  2004     1.744502       1.308377   1.350654        1.827974"
      ]
     },
     "execution_count": 95,
     "metadata": {},
     "output_type": "execute_result"
    }
   ],
   "source": [
    "damagesM = []\n",
    "\n",
    "for x in range(len(years)):\n",
    "    damagesM.append(cpi.inflate(valuesM[x], newyears[x], to=2019))\n",
    "\n",
    "fema3['Actual $M 2019'] = damagesM\n",
    "fema3.head()"
   ]
  },
  {
   "cell_type": "markdown",
   "metadata": {},
   "source": [
    "### Data Visualization 4 - FEMA in Real $ 2019"
   ]
  },
  {
   "cell_type": "markdown",
   "metadata": {},
   "source": [
    "In the first visualization of FEMA damage for only \"Tornado\" events, we see those damage amounts represented by year in the following line plot."
   ]
  },
  {
   "cell_type": "code",
   "execution_count": 96,
   "metadata": {},
   "outputs": [
    {
     "data": {
      "image/png": "[encoded data removed]",
      "text/plain": [
       "<Figure size 720x504 with 1 Axes>"
      ]
     },
     "metadata": {
      "needs_background": "light"
     },
     "output_type": "display_data"
    }
   ],
   "source": [
    "fig = plt.figure(figsize=(10,7)) \n",
    "ax = fig.add_subplot(111)\n",
    "\n",
    "fema3['Actual $M 2019'].plot(kind='line', linestyle='dashed', marker='h', color=\"orange\", ax=ax, label = \"FEMA Damage (2019$M)\")\n",
    "\n",
    "ax.set(xlabel='Years', ylabel='Damage ($M)')\n",
    "ax.set_title('FEMA \"Tornado\" Damage by Year', fontsize=16)\n",
    "ax.set_xticks(range(0,20,1))\n",
    "ax.set_xticklabels(years,rotation=90)\n",
    "\n",
    "ax.grid(which='major',axis='both')\n",
    "fig.legend(loc=5, bbox_to_anchor=(0.45, 0.8), fontsize=12, shadow=True)\n",
    "\n",
    "plt.show()\n",
    "#fig.savefig(\"./Images/FEMA Damage in Real 2019 $M.png\")"
   ]
  },
  {
   "cell_type": "markdown",
   "metadata": {},
   "source": [
    "There is no public assistance included in the data set for years prior to 2000.  There is a good possibility that some of the \"Severe Storm\" incidents were not classified as \"Tornado\" incidents.  Therefore, we are dropping the data prior to 2000 from the National Weather Service (NWS) data to compare them on the next visualization."
   ]
  },
  {
   "cell_type": "code",
   "execution_count": 97,
   "metadata": {},
   "outputs": [],
   "source": [
    "torn3 = torn2.set_index('YEAR')\n",
    "torn3 = torn3.drop([1996,1997,1998,1999], axis=0)\n",
    "torn3 = torn3.reset_index()"
   ]
  },
  {
   "cell_type": "markdown",
   "metadata": {},
   "source": [
    "### Data Visualization 5 - Tornado Damage (FEMA vs NWS)"
   ]
  },
  {
   "cell_type": "markdown",
   "metadata": {},
   "source": [
    "This shows the FEMA damage estimates and the NWS damage estimates (both in real inflation adjusted 2019 dollars) plotted together on the same visualization."
   ]
  },
  {
   "cell_type": "code",
   "execution_count": 98,
   "metadata": {},
   "outputs": [
    {
     "data": {
      "image/png": "[encoded data removed]",
      "text/plain": [
       "<Figure size 720x504 with 1 Axes>"
      ]
     },
     "metadata": {
      "needs_background": "light"
     },
     "output_type": "display_data"
    }
   ],
   "source": [
    "years = fema3['Year']\n",
    "\n",
    "fig = plt.figure(figsize=(10,7))\n",
    "ax = fig.add_subplot(111)\n",
    "\n",
    "ax = fema3['Actual $M 2019'].plot(kind='line', linestyle='dashed', marker='h', color=\"orange\", ax=ax, label = \"FEMA Damage\")\n",
    "ax2 = torn3['Damage_M2019'].plot(kind='line', color='green', label='NWS Damage', marker='h', ax=ax, linestyle='dashdot')\n",
    "\n",
    "ax.set_title('\"Tornado\" Damage by Year', fontsize=16)\n",
    "ax.grid(which='major',axis='both')\n",
    "\n",
    "ax.set(xlabel='Years', ylabel='Damage (2019 $M)')\n",
    "ax.set_xticks(range(0,20,1))\n",
    "ax.set_xticklabels(years,rotation=90)\n",
    "\n",
    "fig.legend(loc=5, bbox_to_anchor=(0.4, 0.75), fontsize=12, shadow=True)\n",
    "\n",
    "plt.show()\n",
    "#fig.savefig(\"./Images/NWS Tornado Damage vs FEMA Tornado Damage in Real 2019 $M.png\")"
   ]
  },
  {
   "cell_type": "markdown",
   "metadata": {},
   "source": [
    "Our conclusion, the FEMA public assistance program does not typically provide assistance for disasters that are related to tornado events.  In fact, in doing additional research, typically private property insurance claims will cover most of the property damage and related damages associated with tornadoes (ie. winds, debris, and medical), while FEMA is more focused on providing tornado assistance in other ways -- through other FEMA programs related to all tornadoes, such as Prediction, Preparedness and Education efforts to help increase public awareness and decrease the potential impact of all events."
   ]
  },
  {
   "cell_type": "markdown",
   "metadata": {},
   "source": [
    "### FEMA Data for ALL Events"
   ]
  },
  {
   "cell_type": "markdown",
   "metadata": {},
   "source": [
    "Based on that conclusion, we included the FEMA public assistance damage from ALL events to the previous representation and you can see that it often doesn't even match up to the worst years in terms of tornado activity and impact at all. "
   ]
  },
  {
   "cell_type": "code",
   "execution_count": 99,
   "metadata": {},
   "outputs": [],
   "source": [
    "fema5 = df_fema2.groupby(['Year']).sum()\n",
    "fema5['Estimate $M'] = fema5['Project Estimate']/1000000\n",
    "fema5['FEMA Share $M'] = fema5['FEMA Share']/1000000\n",
    "fema5['Actual $M'] = fema5['Project Actual']/1000000\n",
    "fema5 = fema5.drop(['Disaster'], axis=1)\n",
    "fema5 = fema5.loc[:,['Estimate $M','FEMA Share $M','Actual $M']]\n",
    "fema5 = fema5.drop(['1991','1992','1993','1994','1995','1996','1997','1998','1999','2020'])\n",
    "fema5 = fema5.reset_index()"
   ]
  },
  {
   "cell_type": "code",
   "execution_count": 100,
   "metadata": {},
   "outputs": [],
   "source": [
    "years = fema5['Year']\n",
    "newyears = [int(years[x]) for x in range(len(years))]\n",
    "valuesM = fema5['Actual $M']\n",
    "damagesM = []\n",
    "\n",
    "for x in range(len(years)):\n",
    "    damagesM.append(cpi.inflate(valuesM[x], newyears[x], to=2019))\n",
    "\n",
    "fema5['Actual $M 2019'] = damagesM"
   ]
  },
  {
   "cell_type": "markdown",
   "metadata": {},
   "source": [
    "### Data Visualization 6 - NWS Tornado Damage vs FEMA All Events"
   ]
  },
  {
   "cell_type": "code",
   "execution_count": 101,
   "metadata": {},
   "outputs": [
    {
     "data": {
      "image/png": "[encoded data removed]",
      "text/plain": [
       "<Figure size 720x504 with 1 Axes>"
      ]
     },
     "metadata": {
      "needs_background": "light"
     },
     "output_type": "display_data"
    }
   ],
   "source": [
    "fig = plt.figure(figsize=(10,7))\n",
    "ax = fig.add_subplot(111)\n",
    "\n",
    "ax = fema5['Actual $M 2019'].plot(kind='line', linestyle='dashed', marker='h', color=\"red\", ax=ax, label = \"ALL FEMA Damage\")\n",
    "ax2 = torn3['Damage_M2019'].plot(kind='line', color='green', label='NWS Tornado Damage', ax=ax, linestyle='dashdot')\n",
    "ax3 = fema3['Actual $M 2019'].plot(kind='line', linestyle='dashed', marker='h', color=\"orange\", ax=ax, label = \"FEMA Tornado Damage\")\n",
    "\n",
    "ax.set_title('Damage by Year', fontsize=16)\n",
    "ax.grid(which='major',axis='both')\n",
    "\n",
    "ax.set(xlabel='Years', ylabel='Damage (2019 $M)')\n",
    "ax.set_xticks(range(0,20,1))\n",
    "ax.set_xticklabels(years,rotation=90)\n",
    "\n",
    "fig.legend(loc=5, bbox_to_anchor=(0.4, 0.8), fontsize=12, shadow=True)\n",
    "\n",
    "plt.show()\n",
    "#fig.savefig(\"./Images/NWS Tornado Damage vs FEMA All Events Damage in Real 2019 $M.png\")"
   ]
  },
  {
   "cell_type": "code",
   "execution_count": null,
   "metadata": {},
   "outputs": [],
   "source": []
  },
  {
   "cell_type": "code",
   "execution_count": null,
   "metadata": {},
   "outputs": [],
   "source": []
  }
 ],
 "metadata": {
  "kernelspec": {
   "display_name": "Python 3",
   "language": "python",
   "name": "python3"
  },
  "language_info": {
   "codemirror_mode": {
    "name": "ipython",
    "version": 3
   },
   "file_extension": ".py",
   "mimetype": "text/x-python",
   "name": "python",
   "nbconvert_exporter": "python",
   "pygments_lexer": "ipython3",
   "version": "3.7.7"
  }
 },
 "nbformat": 4,
 "nbformat_minor": 4
}
